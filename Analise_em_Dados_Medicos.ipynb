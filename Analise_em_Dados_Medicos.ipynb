{
  "nbformat": 4,
  "nbformat_minor": 0,
  "metadata": {
    "colab": {
      "provenance": [],
      "authorship_tag": "ABX9TyOUua6dJoOhy3+422u0aBZw"
    },
    "kernelspec": {
      "name": "python3",
      "display_name": "Python 3"
    },
    "language_info": {
      "name": "python"
    }
  },
  "cells": [
    {
      "cell_type": "markdown",
      "source": [
        "###Projeto de Engenharia de Atributos e Redução de Váriaveis com Dados Médicos"
      ],
      "metadata": {
        "id": "ouhL48qEIxxW"
      }
    },
    {
      "cell_type": "code",
      "execution_count": 1,
      "metadata": {
        "id": "MAKgSi27HcZd"
      },
      "outputs": [],
      "source": [
        "# Importando as Libs\n",
        "\n",
        "import numpy as np\n",
        "import pandas as pd\n",
        "!pip install -q powerbiclient\n",
        "import powerbiclient\n",
        "from powerbiclient.authentication import DeviceCodeLoginAuthentication\n",
        "from powerbiclient import QuickVisualize, get_dataset_config\n",
        "from google.colab import output\n",
        "output.enable_custom_widget_manager()\n",
        "import matplotlib\n",
        "import matplotlib.pyplot as plt\n",
        "import seaborn as sns"
      ]
    },
    {
      "cell_type": "code",
      "source": [
        "# Funções\n",
        "\n",
        "def convert_to_string(df, columns):\n",
        "    for col in columns:\n",
        "        df[col] = df[col].astype(\"string\")\n",
        "\n",
        "\n",
        "def convert_to_int(df, columns):\n",
        "    for col in columns:\n",
        "        df[col] = df[col].astype(\"int64\")"
      ],
      "metadata": {
        "id": "lZS6BDWlnaRU"
      },
      "execution_count": 2,
      "outputs": []
    },
    {
      "cell_type": "code",
      "source": [
        "# Carregando os dados\n",
        "\n",
        "dados = '/content/diabetic_data.csv'\n",
        "\n",
        "dataset = pd.read_csv (dados , sep = ',', na_values= ['Unknown/Invalid','','?'])"
      ],
      "metadata": {
        "id": "VlFP7ePUJxXW",
        "colab": {
          "base_uri": "https://localhost:8080/"
        },
        "outputId": "0a08a62f-ed9b-49eb-b42b-0ad5979608eb"
      },
      "execution_count": 3,
      "outputs": [
        {
          "output_type": "stream",
          "name": "stderr",
          "text": [
            "<ipython-input-3-34b15b3db99c>:5: DtypeWarning: Columns (10) have mixed types. Specify dtype option on import or set low_memory=False.\n",
            "  dataset = pd.read_csv (dados , sep = ',', na_values= ['Unknown/Invalid','','?'])\n"
          ]
        }
      ]
    },
    {
      "cell_type": "code",
      "source": [
        "# Configurando máximo de coluna que pode aparecer \n",
        "\n",
        "pd.set_option ('display.max_columns', 100)"
      ],
      "metadata": {
        "id": "UL6kncMZMSC3"
      },
      "execution_count": 4,
      "outputs": []
    },
    {
      "cell_type": "code",
      "source": [
        "# Head no dataframe\n",
        "\n",
        "dataset.head()\n",
        "\n",
        "\n"
      ],
      "metadata": {
        "colab": {
          "base_uri": "https://localhost:8080/",
          "height": 374
        },
        "id": "QFgWbMnfKh8m",
        "outputId": "d84984ff-bb0d-411f-b9fb-f40443b86975"
      },
      "execution_count": 5,
      "outputs": [
        {
          "output_type": "execute_result",
          "data": {
            "text/plain": [
              "   encounter_id  patient_nbr             race  gender      age weight  \\\n",
              "0       2278392      8222157        Caucasian  Female   [0-10)    NaN   \n",
              "1        149190     55629189        Caucasian  Female  [10-20)    NaN   \n",
              "2         64410     86047875  AfricanAmerican  Female  [20-30)    NaN   \n",
              "3        500364     82442376        Caucasian    Male  [30-40)    NaN   \n",
              "4         16680     42519267        Caucasian    Male  [40-50)    NaN   \n",
              "\n",
              "   admission_type_id  discharge_disposition_id  admission_source_id  \\\n",
              "0                  6                        25                    1   \n",
              "1                  1                         1                    7   \n",
              "2                  1                         1                    7   \n",
              "3                  1                         1                    7   \n",
              "4                  1                         1                    7   \n",
              "\n",
              "   time_in_hospital payer_code         medical_specialty  num_lab_procedures  \\\n",
              "0                 1        NaN  Pediatrics-Endocrinology                  41   \n",
              "1                 3        NaN                       NaN                  59   \n",
              "2                 2        NaN                       NaN                  11   \n",
              "3                 2        NaN                       NaN                  44   \n",
              "4                 1        NaN                       NaN                  51   \n",
              "\n",
              "   num_procedures  num_medications  number_outpatient  number_emergency  \\\n",
              "0               0                1                  0                 0   \n",
              "1               0               18                  0                 0   \n",
              "2               5               13                  2                 0   \n",
              "3               1               16                  0                 0   \n",
              "4               0                8                  0                 0   \n",
              "\n",
              "   number_inpatient  diag_1  diag_2 diag_3  number_diagnoses max_glu_serum  \\\n",
              "0                 0  250.83     NaN    NaN                 1          None   \n",
              "1                 0     276  250.01    255                 9          None   \n",
              "2                 1     648     250    V27                 6          None   \n",
              "3                 0       8  250.43    403                 7          None   \n",
              "4                 0     197     157    250                 5          None   \n",
              "\n",
              "  A1Cresult metformin repaglinide nateglinide chlorpropamide glimepiride  \\\n",
              "0      None        No          No          No             No          No   \n",
              "1      None        No          No          No             No          No   \n",
              "2      None        No          No          No             No          No   \n",
              "3      None        No          No          No             No          No   \n",
              "4      None        No          No          No             No          No   \n",
              "\n",
              "  acetohexamide glipizide glyburide tolbutamide pioglitazone rosiglitazone  \\\n",
              "0            No        No        No          No           No            No   \n",
              "1            No        No        No          No           No            No   \n",
              "2            No    Steady        No          No           No            No   \n",
              "3            No        No        No          No           No            No   \n",
              "4            No    Steady        No          No           No            No   \n",
              "\n",
              "  acarbose miglitol troglitazone tolazamide examide citoglipton insulin  \\\n",
              "0       No       No           No         No      No          No      No   \n",
              "1       No       No           No         No      No          No      Up   \n",
              "2       No       No           No         No      No          No      No   \n",
              "3       No       No           No         No      No          No      Up   \n",
              "4       No       No           No         No      No          No  Steady   \n",
              "\n",
              "  glyburide-metformin glipizide-metformin glimepiride-pioglitazone  \\\n",
              "0                  No                  No                       No   \n",
              "1                  No                  No                       No   \n",
              "2                  No                  No                       No   \n",
              "3                  No                  No                       No   \n",
              "4                  No                  No                       No   \n",
              "\n",
              "  metformin-rosiglitazone metformin-pioglitazone change diabetesMed readmitted  \n",
              "0                      No                     No     No          No         NO  \n",
              "1                      No                     No     Ch         Yes        >30  \n",
              "2                      No                     No     No         Yes         NO  \n",
              "3                      No                     No     Ch         Yes         NO  \n",
              "4                      No                     No     Ch         Yes         NO  "
            ],
            "text/html": [
              "\n",
              "  <div id=\"df-01b4a637-567b-4c13-950a-738ec7e3eaab\">\n",
              "    <div class=\"colab-df-container\">\n",
              "      <div>\n",
              "<style scoped>\n",
              "    .dataframe tbody tr th:only-of-type {\n",
              "        vertical-align: middle;\n",
              "    }\n",
              "\n",
              "    .dataframe tbody tr th {\n",
              "        vertical-align: top;\n",
              "    }\n",
              "\n",
              "    .dataframe thead th {\n",
              "        text-align: right;\n",
              "    }\n",
              "</style>\n",
              "<table border=\"1\" class=\"dataframe\">\n",
              "  <thead>\n",
              "    <tr style=\"text-align: right;\">\n",
              "      <th></th>\n",
              "      <th>encounter_id</th>\n",
              "      <th>patient_nbr</th>\n",
              "      <th>race</th>\n",
              "      <th>gender</th>\n",
              "      <th>age</th>\n",
              "      <th>weight</th>\n",
              "      <th>admission_type_id</th>\n",
              "      <th>discharge_disposition_id</th>\n",
              "      <th>admission_source_id</th>\n",
              "      <th>time_in_hospital</th>\n",
              "      <th>payer_code</th>\n",
              "      <th>medical_specialty</th>\n",
              "      <th>num_lab_procedures</th>\n",
              "      <th>num_procedures</th>\n",
              "      <th>num_medications</th>\n",
              "      <th>number_outpatient</th>\n",
              "      <th>number_emergency</th>\n",
              "      <th>number_inpatient</th>\n",
              "      <th>diag_1</th>\n",
              "      <th>diag_2</th>\n",
              "      <th>diag_3</th>\n",
              "      <th>number_diagnoses</th>\n",
              "      <th>max_glu_serum</th>\n",
              "      <th>A1Cresult</th>\n",
              "      <th>metformin</th>\n",
              "      <th>repaglinide</th>\n",
              "      <th>nateglinide</th>\n",
              "      <th>chlorpropamide</th>\n",
              "      <th>glimepiride</th>\n",
              "      <th>acetohexamide</th>\n",
              "      <th>glipizide</th>\n",
              "      <th>glyburide</th>\n",
              "      <th>tolbutamide</th>\n",
              "      <th>pioglitazone</th>\n",
              "      <th>rosiglitazone</th>\n",
              "      <th>acarbose</th>\n",
              "      <th>miglitol</th>\n",
              "      <th>troglitazone</th>\n",
              "      <th>tolazamide</th>\n",
              "      <th>examide</th>\n",
              "      <th>citoglipton</th>\n",
              "      <th>insulin</th>\n",
              "      <th>glyburide-metformin</th>\n",
              "      <th>glipizide-metformin</th>\n",
              "      <th>glimepiride-pioglitazone</th>\n",
              "      <th>metformin-rosiglitazone</th>\n",
              "      <th>metformin-pioglitazone</th>\n",
              "      <th>change</th>\n",
              "      <th>diabetesMed</th>\n",
              "      <th>readmitted</th>\n",
              "    </tr>\n",
              "  </thead>\n",
              "  <tbody>\n",
              "    <tr>\n",
              "      <th>0</th>\n",
              "      <td>2278392</td>\n",
              "      <td>8222157</td>\n",
              "      <td>Caucasian</td>\n",
              "      <td>Female</td>\n",
              "      <td>[0-10)</td>\n",
              "      <td>NaN</td>\n",
              "      <td>6</td>\n",
              "      <td>25</td>\n",
              "      <td>1</td>\n",
              "      <td>1</td>\n",
              "      <td>NaN</td>\n",
              "      <td>Pediatrics-Endocrinology</td>\n",
              "      <td>41</td>\n",
              "      <td>0</td>\n",
              "      <td>1</td>\n",
              "      <td>0</td>\n",
              "      <td>0</td>\n",
              "      <td>0</td>\n",
              "      <td>250.83</td>\n",
              "      <td>NaN</td>\n",
              "      <td>NaN</td>\n",
              "      <td>1</td>\n",
              "      <td>None</td>\n",
              "      <td>None</td>\n",
              "      <td>No</td>\n",
              "      <td>No</td>\n",
              "      <td>No</td>\n",
              "      <td>No</td>\n",
              "      <td>No</td>\n",
              "      <td>No</td>\n",
              "      <td>No</td>\n",
              "      <td>No</td>\n",
              "      <td>No</td>\n",
              "      <td>No</td>\n",
              "      <td>No</td>\n",
              "      <td>No</td>\n",
              "      <td>No</td>\n",
              "      <td>No</td>\n",
              "      <td>No</td>\n",
              "      <td>No</td>\n",
              "      <td>No</td>\n",
              "      <td>No</td>\n",
              "      <td>No</td>\n",
              "      <td>No</td>\n",
              "      <td>No</td>\n",
              "      <td>No</td>\n",
              "      <td>No</td>\n",
              "      <td>No</td>\n",
              "      <td>No</td>\n",
              "      <td>NO</td>\n",
              "    </tr>\n",
              "    <tr>\n",
              "      <th>1</th>\n",
              "      <td>149190</td>\n",
              "      <td>55629189</td>\n",
              "      <td>Caucasian</td>\n",
              "      <td>Female</td>\n",
              "      <td>[10-20)</td>\n",
              "      <td>NaN</td>\n",
              "      <td>1</td>\n",
              "      <td>1</td>\n",
              "      <td>7</td>\n",
              "      <td>3</td>\n",
              "      <td>NaN</td>\n",
              "      <td>NaN</td>\n",
              "      <td>59</td>\n",
              "      <td>0</td>\n",
              "      <td>18</td>\n",
              "      <td>0</td>\n",
              "      <td>0</td>\n",
              "      <td>0</td>\n",
              "      <td>276</td>\n",
              "      <td>250.01</td>\n",
              "      <td>255</td>\n",
              "      <td>9</td>\n",
              "      <td>None</td>\n",
              "      <td>None</td>\n",
              "      <td>No</td>\n",
              "      <td>No</td>\n",
              "      <td>No</td>\n",
              "      <td>No</td>\n",
              "      <td>No</td>\n",
              "      <td>No</td>\n",
              "      <td>No</td>\n",
              "      <td>No</td>\n",
              "      <td>No</td>\n",
              "      <td>No</td>\n",
              "      <td>No</td>\n",
              "      <td>No</td>\n",
              "      <td>No</td>\n",
              "      <td>No</td>\n",
              "      <td>No</td>\n",
              "      <td>No</td>\n",
              "      <td>No</td>\n",
              "      <td>Up</td>\n",
              "      <td>No</td>\n",
              "      <td>No</td>\n",
              "      <td>No</td>\n",
              "      <td>No</td>\n",
              "      <td>No</td>\n",
              "      <td>Ch</td>\n",
              "      <td>Yes</td>\n",
              "      <td>&gt;30</td>\n",
              "    </tr>\n",
              "    <tr>\n",
              "      <th>2</th>\n",
              "      <td>64410</td>\n",
              "      <td>86047875</td>\n",
              "      <td>AfricanAmerican</td>\n",
              "      <td>Female</td>\n",
              "      <td>[20-30)</td>\n",
              "      <td>NaN</td>\n",
              "      <td>1</td>\n",
              "      <td>1</td>\n",
              "      <td>7</td>\n",
              "      <td>2</td>\n",
              "      <td>NaN</td>\n",
              "      <td>NaN</td>\n",
              "      <td>11</td>\n",
              "      <td>5</td>\n",
              "      <td>13</td>\n",
              "      <td>2</td>\n",
              "      <td>0</td>\n",
              "      <td>1</td>\n",
              "      <td>648</td>\n",
              "      <td>250</td>\n",
              "      <td>V27</td>\n",
              "      <td>6</td>\n",
              "      <td>None</td>\n",
              "      <td>None</td>\n",
              "      <td>No</td>\n",
              "      <td>No</td>\n",
              "      <td>No</td>\n",
              "      <td>No</td>\n",
              "      <td>No</td>\n",
              "      <td>No</td>\n",
              "      <td>Steady</td>\n",
              "      <td>No</td>\n",
              "      <td>No</td>\n",
              "      <td>No</td>\n",
              "      <td>No</td>\n",
              "      <td>No</td>\n",
              "      <td>No</td>\n",
              "      <td>No</td>\n",
              "      <td>No</td>\n",
              "      <td>No</td>\n",
              "      <td>No</td>\n",
              "      <td>No</td>\n",
              "      <td>No</td>\n",
              "      <td>No</td>\n",
              "      <td>No</td>\n",
              "      <td>No</td>\n",
              "      <td>No</td>\n",
              "      <td>No</td>\n",
              "      <td>Yes</td>\n",
              "      <td>NO</td>\n",
              "    </tr>\n",
              "    <tr>\n",
              "      <th>3</th>\n",
              "      <td>500364</td>\n",
              "      <td>82442376</td>\n",
              "      <td>Caucasian</td>\n",
              "      <td>Male</td>\n",
              "      <td>[30-40)</td>\n",
              "      <td>NaN</td>\n",
              "      <td>1</td>\n",
              "      <td>1</td>\n",
              "      <td>7</td>\n",
              "      <td>2</td>\n",
              "      <td>NaN</td>\n",
              "      <td>NaN</td>\n",
              "      <td>44</td>\n",
              "      <td>1</td>\n",
              "      <td>16</td>\n",
              "      <td>0</td>\n",
              "      <td>0</td>\n",
              "      <td>0</td>\n",
              "      <td>8</td>\n",
              "      <td>250.43</td>\n",
              "      <td>403</td>\n",
              "      <td>7</td>\n",
              "      <td>None</td>\n",
              "      <td>None</td>\n",
              "      <td>No</td>\n",
              "      <td>No</td>\n",
              "      <td>No</td>\n",
              "      <td>No</td>\n",
              "      <td>No</td>\n",
              "      <td>No</td>\n",
              "      <td>No</td>\n",
              "      <td>No</td>\n",
              "      <td>No</td>\n",
              "      <td>No</td>\n",
              "      <td>No</td>\n",
              "      <td>No</td>\n",
              "      <td>No</td>\n",
              "      <td>No</td>\n",
              "      <td>No</td>\n",
              "      <td>No</td>\n",
              "      <td>No</td>\n",
              "      <td>Up</td>\n",
              "      <td>No</td>\n",
              "      <td>No</td>\n",
              "      <td>No</td>\n",
              "      <td>No</td>\n",
              "      <td>No</td>\n",
              "      <td>Ch</td>\n",
              "      <td>Yes</td>\n",
              "      <td>NO</td>\n",
              "    </tr>\n",
              "    <tr>\n",
              "      <th>4</th>\n",
              "      <td>16680</td>\n",
              "      <td>42519267</td>\n",
              "      <td>Caucasian</td>\n",
              "      <td>Male</td>\n",
              "      <td>[40-50)</td>\n",
              "      <td>NaN</td>\n",
              "      <td>1</td>\n",
              "      <td>1</td>\n",
              "      <td>7</td>\n",
              "      <td>1</td>\n",
              "      <td>NaN</td>\n",
              "      <td>NaN</td>\n",
              "      <td>51</td>\n",
              "      <td>0</td>\n",
              "      <td>8</td>\n",
              "      <td>0</td>\n",
              "      <td>0</td>\n",
              "      <td>0</td>\n",
              "      <td>197</td>\n",
              "      <td>157</td>\n",
              "      <td>250</td>\n",
              "      <td>5</td>\n",
              "      <td>None</td>\n",
              "      <td>None</td>\n",
              "      <td>No</td>\n",
              "      <td>No</td>\n",
              "      <td>No</td>\n",
              "      <td>No</td>\n",
              "      <td>No</td>\n",
              "      <td>No</td>\n",
              "      <td>Steady</td>\n",
              "      <td>No</td>\n",
              "      <td>No</td>\n",
              "      <td>No</td>\n",
              "      <td>No</td>\n",
              "      <td>No</td>\n",
              "      <td>No</td>\n",
              "      <td>No</td>\n",
              "      <td>No</td>\n",
              "      <td>No</td>\n",
              "      <td>No</td>\n",
              "      <td>Steady</td>\n",
              "      <td>No</td>\n",
              "      <td>No</td>\n",
              "      <td>No</td>\n",
              "      <td>No</td>\n",
              "      <td>No</td>\n",
              "      <td>Ch</td>\n",
              "      <td>Yes</td>\n",
              "      <td>NO</td>\n",
              "    </tr>\n",
              "  </tbody>\n",
              "</table>\n",
              "</div>\n",
              "      <button class=\"colab-df-convert\" onclick=\"convertToInteractive('df-01b4a637-567b-4c13-950a-738ec7e3eaab')\"\n",
              "              title=\"Convert this dataframe to an interactive table.\"\n",
              "              style=\"display:none;\">\n",
              "        \n",
              "  <svg xmlns=\"http://www.w3.org/2000/svg\" height=\"24px\"viewBox=\"0 0 24 24\"\n",
              "       width=\"24px\">\n",
              "    <path d=\"M0 0h24v24H0V0z\" fill=\"none\"/>\n",
              "    <path d=\"M18.56 5.44l.94 2.06.94-2.06 2.06-.94-2.06-.94-.94-2.06-.94 2.06-2.06.94zm-11 1L8.5 8.5l.94-2.06 2.06-.94-2.06-.94L8.5 2.5l-.94 2.06-2.06.94zm10 10l.94 2.06.94-2.06 2.06-.94-2.06-.94-.94-2.06-.94 2.06-2.06.94z\"/><path d=\"M17.41 7.96l-1.37-1.37c-.4-.4-.92-.59-1.43-.59-.52 0-1.04.2-1.43.59L10.3 9.45l-7.72 7.72c-.78.78-.78 2.05 0 2.83L4 21.41c.39.39.9.59 1.41.59.51 0 1.02-.2 1.41-.59l7.78-7.78 2.81-2.81c.8-.78.8-2.07 0-2.86zM5.41 20L4 18.59l7.72-7.72 1.47 1.35L5.41 20z\"/>\n",
              "  </svg>\n",
              "      </button>\n",
              "      \n",
              "  <style>\n",
              "    .colab-df-container {\n",
              "      display:flex;\n",
              "      flex-wrap:wrap;\n",
              "      gap: 12px;\n",
              "    }\n",
              "\n",
              "    .colab-df-convert {\n",
              "      background-color: #E8F0FE;\n",
              "      border: none;\n",
              "      border-radius: 50%;\n",
              "      cursor: pointer;\n",
              "      display: none;\n",
              "      fill: #1967D2;\n",
              "      height: 32px;\n",
              "      padding: 0 0 0 0;\n",
              "      width: 32px;\n",
              "    }\n",
              "\n",
              "    .colab-df-convert:hover {\n",
              "      background-color: #E2EBFA;\n",
              "      box-shadow: 0px 1px 2px rgba(60, 64, 67, 0.3), 0px 1px 3px 1px rgba(60, 64, 67, 0.15);\n",
              "      fill: #174EA6;\n",
              "    }\n",
              "\n",
              "    [theme=dark] .colab-df-convert {\n",
              "      background-color: #3B4455;\n",
              "      fill: #D2E3FC;\n",
              "    }\n",
              "\n",
              "    [theme=dark] .colab-df-convert:hover {\n",
              "      background-color: #434B5C;\n",
              "      box-shadow: 0px 1px 3px 1px rgba(0, 0, 0, 0.15);\n",
              "      filter: drop-shadow(0px 1px 2px rgba(0, 0, 0, 0.3));\n",
              "      fill: #FFFFFF;\n",
              "    }\n",
              "  </style>\n",
              "\n",
              "      <script>\n",
              "        const buttonEl =\n",
              "          document.querySelector('#df-01b4a637-567b-4c13-950a-738ec7e3eaab button.colab-df-convert');\n",
              "        buttonEl.style.display =\n",
              "          google.colab.kernel.accessAllowed ? 'block' : 'none';\n",
              "\n",
              "        async function convertToInteractive(key) {\n",
              "          const element = document.querySelector('#df-01b4a637-567b-4c13-950a-738ec7e3eaab');\n",
              "          const dataTable =\n",
              "            await google.colab.kernel.invokeFunction('convertToInteractive',\n",
              "                                                     [key], {});\n",
              "          if (!dataTable) return;\n",
              "\n",
              "          const docLinkHtml = 'Like what you see? Visit the ' +\n",
              "            '<a target=\"_blank\" href=https://colab.research.google.com/notebooks/data_table.ipynb>data table notebook</a>'\n",
              "            + ' to learn more about interactive tables.';\n",
              "          element.innerHTML = '';\n",
              "          dataTable['output_type'] = 'display_data';\n",
              "          await google.colab.output.renderOutput(dataTable, element);\n",
              "          const docLink = document.createElement('div');\n",
              "          docLink.innerHTML = docLinkHtml;\n",
              "          element.appendChild(docLink);\n",
              "        }\n",
              "      </script>\n",
              "    </div>\n",
              "  </div>\n",
              "  "
            ]
          },
          "metadata": {},
          "execution_count": 5
        }
      ]
    },
    {
      "cell_type": "code",
      "source": [
        "# Shape\n",
        "\n",
        "shape = dataset.shape \n"
      ],
      "metadata": {
        "id": "CVImt_FgKx0Q"
      },
      "execution_count": 6,
      "outputs": []
    },
    {
      "cell_type": "code",
      "source": [
        "# Informações das variáveis e tipagem dos dados\n",
        "\n",
        "dataset.info()"
      ],
      "metadata": {
        "colab": {
          "base_uri": "https://localhost:8080/"
        },
        "id": "CNhP8SpzK1hF",
        "outputId": "29f37664-4753-4062-dda4-e86eb01ebb06"
      },
      "execution_count": 7,
      "outputs": [
        {
          "output_type": "stream",
          "name": "stdout",
          "text": [
            "<class 'pandas.core.frame.DataFrame'>\n",
            "RangeIndex: 101766 entries, 0 to 101765\n",
            "Data columns (total 50 columns):\n",
            " #   Column                    Non-Null Count   Dtype \n",
            "---  ------                    --------------   ----- \n",
            " 0   encounter_id              101766 non-null  int64 \n",
            " 1   patient_nbr               101766 non-null  int64 \n",
            " 2   race                      99493 non-null   object\n",
            " 3   gender                    101763 non-null  object\n",
            " 4   age                       101766 non-null  object\n",
            " 5   weight                    3197 non-null    object\n",
            " 6   admission_type_id         101766 non-null  int64 \n",
            " 7   discharge_disposition_id  101766 non-null  int64 \n",
            " 8   admission_source_id       101766 non-null  int64 \n",
            " 9   time_in_hospital          101766 non-null  int64 \n",
            " 10  payer_code                61510 non-null   object\n",
            " 11  medical_specialty         51817 non-null   object\n",
            " 12  num_lab_procedures        101766 non-null  int64 \n",
            " 13  num_procedures            101766 non-null  int64 \n",
            " 14  num_medications           101766 non-null  int64 \n",
            " 15  number_outpatient         101766 non-null  int64 \n",
            " 16  number_emergency          101766 non-null  int64 \n",
            " 17  number_inpatient          101766 non-null  int64 \n",
            " 18  diag_1                    101745 non-null  object\n",
            " 19  diag_2                    101408 non-null  object\n",
            " 20  diag_3                    100343 non-null  object\n",
            " 21  number_diagnoses          101766 non-null  int64 \n",
            " 22  max_glu_serum             101766 non-null  object\n",
            " 23  A1Cresult                 101766 non-null  object\n",
            " 24  metformin                 101766 non-null  object\n",
            " 25  repaglinide               101766 non-null  object\n",
            " 26  nateglinide               101766 non-null  object\n",
            " 27  chlorpropamide            101766 non-null  object\n",
            " 28  glimepiride               101766 non-null  object\n",
            " 29  acetohexamide             101766 non-null  object\n",
            " 30  glipizide                 101766 non-null  object\n",
            " 31  glyburide                 101766 non-null  object\n",
            " 32  tolbutamide               101766 non-null  object\n",
            " 33  pioglitazone              101766 non-null  object\n",
            " 34  rosiglitazone             101766 non-null  object\n",
            " 35  acarbose                  101766 non-null  object\n",
            " 36  miglitol                  101766 non-null  object\n",
            " 37  troglitazone              101766 non-null  object\n",
            " 38  tolazamide                101766 non-null  object\n",
            " 39  examide                   101766 non-null  object\n",
            " 40  citoglipton               101766 non-null  object\n",
            " 41  insulin                   101766 non-null  object\n",
            " 42  glyburide-metformin       101766 non-null  object\n",
            " 43  glipizide-metformin       101766 non-null  object\n",
            " 44  glimepiride-pioglitazone  101766 non-null  object\n",
            " 45  metformin-rosiglitazone   101766 non-null  object\n",
            " 46  metformin-pioglitazone    101766 non-null  object\n",
            " 47  change                    101766 non-null  object\n",
            " 48  diabetesMed               101766 non-null  object\n",
            " 49  readmitted                101766 non-null  object\n",
            "dtypes: int64(13), object(37)\n",
            "memory usage: 38.8+ MB\n"
          ]
        }
      ]
    },
    {
      "cell_type": "code",
      "source": [
        "# Informações das estatisticas das variaveis quantitativas\n",
        "\n",
        "dataset.describe (include= 'int64')"
      ],
      "metadata": {
        "colab": {
          "base_uri": "https://localhost:8080/",
          "height": 364
        },
        "id": "QiRIXeOBLCkm",
        "outputId": "90dc27a6-d9f6-4051-d08c-2038cea773d1"
      },
      "execution_count": 8,
      "outputs": [
        {
          "output_type": "execute_result",
          "data": {
            "text/plain": [
              "       encounter_id   patient_nbr  admission_type_id  \\\n",
              "count  1.017660e+05  1.017660e+05      101766.000000   \n",
              "mean   1.652016e+08  5.433040e+07           2.024006   \n",
              "std    1.026403e+08  3.869636e+07           1.445403   \n",
              "min    1.252200e+04  1.350000e+02           1.000000   \n",
              "25%    8.496119e+07  2.341322e+07           1.000000   \n",
              "50%    1.523890e+08  4.550514e+07           1.000000   \n",
              "75%    2.302709e+08  8.754595e+07           3.000000   \n",
              "max    4.438672e+08  1.895026e+08           8.000000   \n",
              "\n",
              "       discharge_disposition_id  admission_source_id  time_in_hospital  \\\n",
              "count             101766.000000        101766.000000     101766.000000   \n",
              "mean                   3.715642             5.754437          4.395987   \n",
              "std                    5.280166             4.064081          2.985108   \n",
              "min                    1.000000             1.000000          1.000000   \n",
              "25%                    1.000000             1.000000          2.000000   \n",
              "50%                    1.000000             7.000000          4.000000   \n",
              "75%                    4.000000             7.000000          6.000000   \n",
              "max                   28.000000            25.000000         14.000000   \n",
              "\n",
              "       num_lab_procedures  num_procedures  num_medications  number_outpatient  \\\n",
              "count       101766.000000   101766.000000    101766.000000      101766.000000   \n",
              "mean            43.095641        1.339730        16.021844           0.369357   \n",
              "std             19.674362        1.705807         8.127566           1.267265   \n",
              "min              1.000000        0.000000         1.000000           0.000000   \n",
              "25%             31.000000        0.000000        10.000000           0.000000   \n",
              "50%             44.000000        1.000000        15.000000           0.000000   \n",
              "75%             57.000000        2.000000        20.000000           0.000000   \n",
              "max            132.000000        6.000000        81.000000          42.000000   \n",
              "\n",
              "       number_emergency  number_inpatient  number_diagnoses  \n",
              "count     101766.000000     101766.000000     101766.000000  \n",
              "mean           0.197836          0.635566          7.422607  \n",
              "std            0.930472          1.262863          1.933600  \n",
              "min            0.000000          0.000000          1.000000  \n",
              "25%            0.000000          0.000000          6.000000  \n",
              "50%            0.000000          0.000000          8.000000  \n",
              "75%            0.000000          1.000000          9.000000  \n",
              "max           76.000000         21.000000         16.000000  "
            ],
            "text/html": [
              "\n",
              "  <div id=\"df-0030e641-9c26-4661-9afa-c7207ae92b81\">\n",
              "    <div class=\"colab-df-container\">\n",
              "      <div>\n",
              "<style scoped>\n",
              "    .dataframe tbody tr th:only-of-type {\n",
              "        vertical-align: middle;\n",
              "    }\n",
              "\n",
              "    .dataframe tbody tr th {\n",
              "        vertical-align: top;\n",
              "    }\n",
              "\n",
              "    .dataframe thead th {\n",
              "        text-align: right;\n",
              "    }\n",
              "</style>\n",
              "<table border=\"1\" class=\"dataframe\">\n",
              "  <thead>\n",
              "    <tr style=\"text-align: right;\">\n",
              "      <th></th>\n",
              "      <th>encounter_id</th>\n",
              "      <th>patient_nbr</th>\n",
              "      <th>admission_type_id</th>\n",
              "      <th>discharge_disposition_id</th>\n",
              "      <th>admission_source_id</th>\n",
              "      <th>time_in_hospital</th>\n",
              "      <th>num_lab_procedures</th>\n",
              "      <th>num_procedures</th>\n",
              "      <th>num_medications</th>\n",
              "      <th>number_outpatient</th>\n",
              "      <th>number_emergency</th>\n",
              "      <th>number_inpatient</th>\n",
              "      <th>number_diagnoses</th>\n",
              "    </tr>\n",
              "  </thead>\n",
              "  <tbody>\n",
              "    <tr>\n",
              "      <th>count</th>\n",
              "      <td>1.017660e+05</td>\n",
              "      <td>1.017660e+05</td>\n",
              "      <td>101766.000000</td>\n",
              "      <td>101766.000000</td>\n",
              "      <td>101766.000000</td>\n",
              "      <td>101766.000000</td>\n",
              "      <td>101766.000000</td>\n",
              "      <td>101766.000000</td>\n",
              "      <td>101766.000000</td>\n",
              "      <td>101766.000000</td>\n",
              "      <td>101766.000000</td>\n",
              "      <td>101766.000000</td>\n",
              "      <td>101766.000000</td>\n",
              "    </tr>\n",
              "    <tr>\n",
              "      <th>mean</th>\n",
              "      <td>1.652016e+08</td>\n",
              "      <td>5.433040e+07</td>\n",
              "      <td>2.024006</td>\n",
              "      <td>3.715642</td>\n",
              "      <td>5.754437</td>\n",
              "      <td>4.395987</td>\n",
              "      <td>43.095641</td>\n",
              "      <td>1.339730</td>\n",
              "      <td>16.021844</td>\n",
              "      <td>0.369357</td>\n",
              "      <td>0.197836</td>\n",
              "      <td>0.635566</td>\n",
              "      <td>7.422607</td>\n",
              "    </tr>\n",
              "    <tr>\n",
              "      <th>std</th>\n",
              "      <td>1.026403e+08</td>\n",
              "      <td>3.869636e+07</td>\n",
              "      <td>1.445403</td>\n",
              "      <td>5.280166</td>\n",
              "      <td>4.064081</td>\n",
              "      <td>2.985108</td>\n",
              "      <td>19.674362</td>\n",
              "      <td>1.705807</td>\n",
              "      <td>8.127566</td>\n",
              "      <td>1.267265</td>\n",
              "      <td>0.930472</td>\n",
              "      <td>1.262863</td>\n",
              "      <td>1.933600</td>\n",
              "    </tr>\n",
              "    <tr>\n",
              "      <th>min</th>\n",
              "      <td>1.252200e+04</td>\n",
              "      <td>1.350000e+02</td>\n",
              "      <td>1.000000</td>\n",
              "      <td>1.000000</td>\n",
              "      <td>1.000000</td>\n",
              "      <td>1.000000</td>\n",
              "      <td>1.000000</td>\n",
              "      <td>0.000000</td>\n",
              "      <td>1.000000</td>\n",
              "      <td>0.000000</td>\n",
              "      <td>0.000000</td>\n",
              "      <td>0.000000</td>\n",
              "      <td>1.000000</td>\n",
              "    </tr>\n",
              "    <tr>\n",
              "      <th>25%</th>\n",
              "      <td>8.496119e+07</td>\n",
              "      <td>2.341322e+07</td>\n",
              "      <td>1.000000</td>\n",
              "      <td>1.000000</td>\n",
              "      <td>1.000000</td>\n",
              "      <td>2.000000</td>\n",
              "      <td>31.000000</td>\n",
              "      <td>0.000000</td>\n",
              "      <td>10.000000</td>\n",
              "      <td>0.000000</td>\n",
              "      <td>0.000000</td>\n",
              "      <td>0.000000</td>\n",
              "      <td>6.000000</td>\n",
              "    </tr>\n",
              "    <tr>\n",
              "      <th>50%</th>\n",
              "      <td>1.523890e+08</td>\n",
              "      <td>4.550514e+07</td>\n",
              "      <td>1.000000</td>\n",
              "      <td>1.000000</td>\n",
              "      <td>7.000000</td>\n",
              "      <td>4.000000</td>\n",
              "      <td>44.000000</td>\n",
              "      <td>1.000000</td>\n",
              "      <td>15.000000</td>\n",
              "      <td>0.000000</td>\n",
              "      <td>0.000000</td>\n",
              "      <td>0.000000</td>\n",
              "      <td>8.000000</td>\n",
              "    </tr>\n",
              "    <tr>\n",
              "      <th>75%</th>\n",
              "      <td>2.302709e+08</td>\n",
              "      <td>8.754595e+07</td>\n",
              "      <td>3.000000</td>\n",
              "      <td>4.000000</td>\n",
              "      <td>7.000000</td>\n",
              "      <td>6.000000</td>\n",
              "      <td>57.000000</td>\n",
              "      <td>2.000000</td>\n",
              "      <td>20.000000</td>\n",
              "      <td>0.000000</td>\n",
              "      <td>0.000000</td>\n",
              "      <td>1.000000</td>\n",
              "      <td>9.000000</td>\n",
              "    </tr>\n",
              "    <tr>\n",
              "      <th>max</th>\n",
              "      <td>4.438672e+08</td>\n",
              "      <td>1.895026e+08</td>\n",
              "      <td>8.000000</td>\n",
              "      <td>28.000000</td>\n",
              "      <td>25.000000</td>\n",
              "      <td>14.000000</td>\n",
              "      <td>132.000000</td>\n",
              "      <td>6.000000</td>\n",
              "      <td>81.000000</td>\n",
              "      <td>42.000000</td>\n",
              "      <td>76.000000</td>\n",
              "      <td>21.000000</td>\n",
              "      <td>16.000000</td>\n",
              "    </tr>\n",
              "  </tbody>\n",
              "</table>\n",
              "</div>\n",
              "      <button class=\"colab-df-convert\" onclick=\"convertToInteractive('df-0030e641-9c26-4661-9afa-c7207ae92b81')\"\n",
              "              title=\"Convert this dataframe to an interactive table.\"\n",
              "              style=\"display:none;\">\n",
              "        \n",
              "  <svg xmlns=\"http://www.w3.org/2000/svg\" height=\"24px\"viewBox=\"0 0 24 24\"\n",
              "       width=\"24px\">\n",
              "    <path d=\"M0 0h24v24H0V0z\" fill=\"none\"/>\n",
              "    <path d=\"M18.56 5.44l.94 2.06.94-2.06 2.06-.94-2.06-.94-.94-2.06-.94 2.06-2.06.94zm-11 1L8.5 8.5l.94-2.06 2.06-.94-2.06-.94L8.5 2.5l-.94 2.06-2.06.94zm10 10l.94 2.06.94-2.06 2.06-.94-2.06-.94-.94-2.06-.94 2.06-2.06.94z\"/><path d=\"M17.41 7.96l-1.37-1.37c-.4-.4-.92-.59-1.43-.59-.52 0-1.04.2-1.43.59L10.3 9.45l-7.72 7.72c-.78.78-.78 2.05 0 2.83L4 21.41c.39.39.9.59 1.41.59.51 0 1.02-.2 1.41-.59l7.78-7.78 2.81-2.81c.8-.78.8-2.07 0-2.86zM5.41 20L4 18.59l7.72-7.72 1.47 1.35L5.41 20z\"/>\n",
              "  </svg>\n",
              "      </button>\n",
              "      \n",
              "  <style>\n",
              "    .colab-df-container {\n",
              "      display:flex;\n",
              "      flex-wrap:wrap;\n",
              "      gap: 12px;\n",
              "    }\n",
              "\n",
              "    .colab-df-convert {\n",
              "      background-color: #E8F0FE;\n",
              "      border: none;\n",
              "      border-radius: 50%;\n",
              "      cursor: pointer;\n",
              "      display: none;\n",
              "      fill: #1967D2;\n",
              "      height: 32px;\n",
              "      padding: 0 0 0 0;\n",
              "      width: 32px;\n",
              "    }\n",
              "\n",
              "    .colab-df-convert:hover {\n",
              "      background-color: #E2EBFA;\n",
              "      box-shadow: 0px 1px 2px rgba(60, 64, 67, 0.3), 0px 1px 3px 1px rgba(60, 64, 67, 0.15);\n",
              "      fill: #174EA6;\n",
              "    }\n",
              "\n",
              "    [theme=dark] .colab-df-convert {\n",
              "      background-color: #3B4455;\n",
              "      fill: #D2E3FC;\n",
              "    }\n",
              "\n",
              "    [theme=dark] .colab-df-convert:hover {\n",
              "      background-color: #434B5C;\n",
              "      box-shadow: 0px 1px 3px 1px rgba(0, 0, 0, 0.15);\n",
              "      filter: drop-shadow(0px 1px 2px rgba(0, 0, 0, 0.3));\n",
              "      fill: #FFFFFF;\n",
              "    }\n",
              "  </style>\n",
              "\n",
              "      <script>\n",
              "        const buttonEl =\n",
              "          document.querySelector('#df-0030e641-9c26-4661-9afa-c7207ae92b81 button.colab-df-convert');\n",
              "        buttonEl.style.display =\n",
              "          google.colab.kernel.accessAllowed ? 'block' : 'none';\n",
              "\n",
              "        async function convertToInteractive(key) {\n",
              "          const element = document.querySelector('#df-0030e641-9c26-4661-9afa-c7207ae92b81');\n",
              "          const dataTable =\n",
              "            await google.colab.kernel.invokeFunction('convertToInteractive',\n",
              "                                                     [key], {});\n",
              "          if (!dataTable) return;\n",
              "\n",
              "          const docLinkHtml = 'Like what you see? Visit the ' +\n",
              "            '<a target=\"_blank\" href=https://colab.research.google.com/notebooks/data_table.ipynb>data table notebook</a>'\n",
              "            + ' to learn more about interactive tables.';\n",
              "          element.innerHTML = '';\n",
              "          dataTable['output_type'] = 'display_data';\n",
              "          await google.colab.output.renderOutput(dataTable, element);\n",
              "          const docLink = document.createElement('div');\n",
              "          docLink.innerHTML = docLinkHtml;\n",
              "          element.appendChild(docLink);\n",
              "        }\n",
              "      </script>\n",
              "    </div>\n",
              "  </div>\n",
              "  "
            ]
          },
          "metadata": {},
          "execution_count": 8
        }
      ]
    },
    {
      "cell_type": "markdown",
      "source": [],
      "metadata": {
        "id": "hSayxxnAJxK_"
      }
    },
    {
      "cell_type": "code",
      "source": [
        "# Informações das estatisticas das variaveis qualitativas\n",
        "\n",
        "dataset.describe (include= 'object')"
      ],
      "metadata": {
        "colab": {
          "base_uri": "https://localhost:8080/",
          "height": 274
        },
        "id": "kq8r7DwkLy-G",
        "outputId": "ed690131-6f8e-4144-e8cd-d7ab781c5328"
      },
      "execution_count": 9,
      "outputs": [
        {
          "output_type": "execute_result",
          "data": {
            "text/plain": [
              "             race  gender      age    weight payer_code medical_specialty  \\\n",
              "count       99493  101763   101766      3197      61510             51817   \n",
              "unique          5       2       10         9         17                72   \n",
              "top     Caucasian  Female  [70-80)  [75-100)         MC  InternalMedicine   \n",
              "freq        76099   54708    26068      1336      32439             14635   \n",
              "\n",
              "        diag_1  diag_2  diag_3 max_glu_serum A1Cresult metformin repaglinide  \\\n",
              "count   101745  101408  100343        101766    101766    101766      101766   \n",
              "unique     716     748     789             4         4         4           4   \n",
              "top        428     276     250          None      None        No          No   \n",
              "freq      6862    6752   11555         96420     84748     81778      100227   \n",
              "\n",
              "       nateglinide chlorpropamide glimepiride acetohexamide glipizide  \\\n",
              "count       101766         101766      101766        101766    101766   \n",
              "unique           4              4           4             2         4   \n",
              "top             No             No          No            No        No   \n",
              "freq        101063         101680       96575        101765     89080   \n",
              "\n",
              "       glyburide tolbutamide pioglitazone rosiglitazone acarbose miglitol  \\\n",
              "count     101766      101766       101766        101766   101766   101766   \n",
              "unique         4           2            4             4        4        4   \n",
              "top           No          No           No            No       No       No   \n",
              "freq       91116      101743        94438         95401   101458   101728   \n",
              "\n",
              "       troglitazone tolazamide examide citoglipton insulin  \\\n",
              "count        101766     101766  101766      101766  101766   \n",
              "unique            2          3       1           1       4   \n",
              "top              No         No      No          No      No   \n",
              "freq         101763     101727  101766      101766   47383   \n",
              "\n",
              "       glyburide-metformin glipizide-metformin glimepiride-pioglitazone  \\\n",
              "count               101766              101766                   101766   \n",
              "unique                   4                   2                        2   \n",
              "top                     No                  No                       No   \n",
              "freq                101060              101753                   101765   \n",
              "\n",
              "       metformin-rosiglitazone metformin-pioglitazone  change diabetesMed  \\\n",
              "count                   101766                 101766  101766      101766   \n",
              "unique                       2                      2       2           2   \n",
              "top                         No                     No      No         Yes   \n",
              "freq                    101764                 101765   54755       78363   \n",
              "\n",
              "       readmitted  \n",
              "count      101766  \n",
              "unique          3  \n",
              "top            NO  \n",
              "freq        54864  "
            ],
            "text/html": [
              "\n",
              "  <div id=\"df-008748bc-1129-41ac-89c0-0c2a21cba684\">\n",
              "    <div class=\"colab-df-container\">\n",
              "      <div>\n",
              "<style scoped>\n",
              "    .dataframe tbody tr th:only-of-type {\n",
              "        vertical-align: middle;\n",
              "    }\n",
              "\n",
              "    .dataframe tbody tr th {\n",
              "        vertical-align: top;\n",
              "    }\n",
              "\n",
              "    .dataframe thead th {\n",
              "        text-align: right;\n",
              "    }\n",
              "</style>\n",
              "<table border=\"1\" class=\"dataframe\">\n",
              "  <thead>\n",
              "    <tr style=\"text-align: right;\">\n",
              "      <th></th>\n",
              "      <th>race</th>\n",
              "      <th>gender</th>\n",
              "      <th>age</th>\n",
              "      <th>weight</th>\n",
              "      <th>payer_code</th>\n",
              "      <th>medical_specialty</th>\n",
              "      <th>diag_1</th>\n",
              "      <th>diag_2</th>\n",
              "      <th>diag_3</th>\n",
              "      <th>max_glu_serum</th>\n",
              "      <th>A1Cresult</th>\n",
              "      <th>metformin</th>\n",
              "      <th>repaglinide</th>\n",
              "      <th>nateglinide</th>\n",
              "      <th>chlorpropamide</th>\n",
              "      <th>glimepiride</th>\n",
              "      <th>acetohexamide</th>\n",
              "      <th>glipizide</th>\n",
              "      <th>glyburide</th>\n",
              "      <th>tolbutamide</th>\n",
              "      <th>pioglitazone</th>\n",
              "      <th>rosiglitazone</th>\n",
              "      <th>acarbose</th>\n",
              "      <th>miglitol</th>\n",
              "      <th>troglitazone</th>\n",
              "      <th>tolazamide</th>\n",
              "      <th>examide</th>\n",
              "      <th>citoglipton</th>\n",
              "      <th>insulin</th>\n",
              "      <th>glyburide-metformin</th>\n",
              "      <th>glipizide-metformin</th>\n",
              "      <th>glimepiride-pioglitazone</th>\n",
              "      <th>metformin-rosiglitazone</th>\n",
              "      <th>metformin-pioglitazone</th>\n",
              "      <th>change</th>\n",
              "      <th>diabetesMed</th>\n",
              "      <th>readmitted</th>\n",
              "    </tr>\n",
              "  </thead>\n",
              "  <tbody>\n",
              "    <tr>\n",
              "      <th>count</th>\n",
              "      <td>99493</td>\n",
              "      <td>101763</td>\n",
              "      <td>101766</td>\n",
              "      <td>3197</td>\n",
              "      <td>61510</td>\n",
              "      <td>51817</td>\n",
              "      <td>101745</td>\n",
              "      <td>101408</td>\n",
              "      <td>100343</td>\n",
              "      <td>101766</td>\n",
              "      <td>101766</td>\n",
              "      <td>101766</td>\n",
              "      <td>101766</td>\n",
              "      <td>101766</td>\n",
              "      <td>101766</td>\n",
              "      <td>101766</td>\n",
              "      <td>101766</td>\n",
              "      <td>101766</td>\n",
              "      <td>101766</td>\n",
              "      <td>101766</td>\n",
              "      <td>101766</td>\n",
              "      <td>101766</td>\n",
              "      <td>101766</td>\n",
              "      <td>101766</td>\n",
              "      <td>101766</td>\n",
              "      <td>101766</td>\n",
              "      <td>101766</td>\n",
              "      <td>101766</td>\n",
              "      <td>101766</td>\n",
              "      <td>101766</td>\n",
              "      <td>101766</td>\n",
              "      <td>101766</td>\n",
              "      <td>101766</td>\n",
              "      <td>101766</td>\n",
              "      <td>101766</td>\n",
              "      <td>101766</td>\n",
              "      <td>101766</td>\n",
              "    </tr>\n",
              "    <tr>\n",
              "      <th>unique</th>\n",
              "      <td>5</td>\n",
              "      <td>2</td>\n",
              "      <td>10</td>\n",
              "      <td>9</td>\n",
              "      <td>17</td>\n",
              "      <td>72</td>\n",
              "      <td>716</td>\n",
              "      <td>748</td>\n",
              "      <td>789</td>\n",
              "      <td>4</td>\n",
              "      <td>4</td>\n",
              "      <td>4</td>\n",
              "      <td>4</td>\n",
              "      <td>4</td>\n",
              "      <td>4</td>\n",
              "      <td>4</td>\n",
              "      <td>2</td>\n",
              "      <td>4</td>\n",
              "      <td>4</td>\n",
              "      <td>2</td>\n",
              "      <td>4</td>\n",
              "      <td>4</td>\n",
              "      <td>4</td>\n",
              "      <td>4</td>\n",
              "      <td>2</td>\n",
              "      <td>3</td>\n",
              "      <td>1</td>\n",
              "      <td>1</td>\n",
              "      <td>4</td>\n",
              "      <td>4</td>\n",
              "      <td>2</td>\n",
              "      <td>2</td>\n",
              "      <td>2</td>\n",
              "      <td>2</td>\n",
              "      <td>2</td>\n",
              "      <td>2</td>\n",
              "      <td>3</td>\n",
              "    </tr>\n",
              "    <tr>\n",
              "      <th>top</th>\n",
              "      <td>Caucasian</td>\n",
              "      <td>Female</td>\n",
              "      <td>[70-80)</td>\n",
              "      <td>[75-100)</td>\n",
              "      <td>MC</td>\n",
              "      <td>InternalMedicine</td>\n",
              "      <td>428</td>\n",
              "      <td>276</td>\n",
              "      <td>250</td>\n",
              "      <td>None</td>\n",
              "      <td>None</td>\n",
              "      <td>No</td>\n",
              "      <td>No</td>\n",
              "      <td>No</td>\n",
              "      <td>No</td>\n",
              "      <td>No</td>\n",
              "      <td>No</td>\n",
              "      <td>No</td>\n",
              "      <td>No</td>\n",
              "      <td>No</td>\n",
              "      <td>No</td>\n",
              "      <td>No</td>\n",
              "      <td>No</td>\n",
              "      <td>No</td>\n",
              "      <td>No</td>\n",
              "      <td>No</td>\n",
              "      <td>No</td>\n",
              "      <td>No</td>\n",
              "      <td>No</td>\n",
              "      <td>No</td>\n",
              "      <td>No</td>\n",
              "      <td>No</td>\n",
              "      <td>No</td>\n",
              "      <td>No</td>\n",
              "      <td>No</td>\n",
              "      <td>Yes</td>\n",
              "      <td>NO</td>\n",
              "    </tr>\n",
              "    <tr>\n",
              "      <th>freq</th>\n",
              "      <td>76099</td>\n",
              "      <td>54708</td>\n",
              "      <td>26068</td>\n",
              "      <td>1336</td>\n",
              "      <td>32439</td>\n",
              "      <td>14635</td>\n",
              "      <td>6862</td>\n",
              "      <td>6752</td>\n",
              "      <td>11555</td>\n",
              "      <td>96420</td>\n",
              "      <td>84748</td>\n",
              "      <td>81778</td>\n",
              "      <td>100227</td>\n",
              "      <td>101063</td>\n",
              "      <td>101680</td>\n",
              "      <td>96575</td>\n",
              "      <td>101765</td>\n",
              "      <td>89080</td>\n",
              "      <td>91116</td>\n",
              "      <td>101743</td>\n",
              "      <td>94438</td>\n",
              "      <td>95401</td>\n",
              "      <td>101458</td>\n",
              "      <td>101728</td>\n",
              "      <td>101763</td>\n",
              "      <td>101727</td>\n",
              "      <td>101766</td>\n",
              "      <td>101766</td>\n",
              "      <td>47383</td>\n",
              "      <td>101060</td>\n",
              "      <td>101753</td>\n",
              "      <td>101765</td>\n",
              "      <td>101764</td>\n",
              "      <td>101765</td>\n",
              "      <td>54755</td>\n",
              "      <td>78363</td>\n",
              "      <td>54864</td>\n",
              "    </tr>\n",
              "  </tbody>\n",
              "</table>\n",
              "</div>\n",
              "      <button class=\"colab-df-convert\" onclick=\"convertToInteractive('df-008748bc-1129-41ac-89c0-0c2a21cba684')\"\n",
              "              title=\"Convert this dataframe to an interactive table.\"\n",
              "              style=\"display:none;\">\n",
              "        \n",
              "  <svg xmlns=\"http://www.w3.org/2000/svg\" height=\"24px\"viewBox=\"0 0 24 24\"\n",
              "       width=\"24px\">\n",
              "    <path d=\"M0 0h24v24H0V0z\" fill=\"none\"/>\n",
              "    <path d=\"M18.56 5.44l.94 2.06.94-2.06 2.06-.94-2.06-.94-.94-2.06-.94 2.06-2.06.94zm-11 1L8.5 8.5l.94-2.06 2.06-.94-2.06-.94L8.5 2.5l-.94 2.06-2.06.94zm10 10l.94 2.06.94-2.06 2.06-.94-2.06-.94-.94-2.06-.94 2.06-2.06.94z\"/><path d=\"M17.41 7.96l-1.37-1.37c-.4-.4-.92-.59-1.43-.59-.52 0-1.04.2-1.43.59L10.3 9.45l-7.72 7.72c-.78.78-.78 2.05 0 2.83L4 21.41c.39.39.9.59 1.41.59.51 0 1.02-.2 1.41-.59l7.78-7.78 2.81-2.81c.8-.78.8-2.07 0-2.86zM5.41 20L4 18.59l7.72-7.72 1.47 1.35L5.41 20z\"/>\n",
              "  </svg>\n",
              "      </button>\n",
              "      \n",
              "  <style>\n",
              "    .colab-df-container {\n",
              "      display:flex;\n",
              "      flex-wrap:wrap;\n",
              "      gap: 12px;\n",
              "    }\n",
              "\n",
              "    .colab-df-convert {\n",
              "      background-color: #E8F0FE;\n",
              "      border: none;\n",
              "      border-radius: 50%;\n",
              "      cursor: pointer;\n",
              "      display: none;\n",
              "      fill: #1967D2;\n",
              "      height: 32px;\n",
              "      padding: 0 0 0 0;\n",
              "      width: 32px;\n",
              "    }\n",
              "\n",
              "    .colab-df-convert:hover {\n",
              "      background-color: #E2EBFA;\n",
              "      box-shadow: 0px 1px 2px rgba(60, 64, 67, 0.3), 0px 1px 3px 1px rgba(60, 64, 67, 0.15);\n",
              "      fill: #174EA6;\n",
              "    }\n",
              "\n",
              "    [theme=dark] .colab-df-convert {\n",
              "      background-color: #3B4455;\n",
              "      fill: #D2E3FC;\n",
              "    }\n",
              "\n",
              "    [theme=dark] .colab-df-convert:hover {\n",
              "      background-color: #434B5C;\n",
              "      box-shadow: 0px 1px 3px 1px rgba(0, 0, 0, 0.15);\n",
              "      filter: drop-shadow(0px 1px 2px rgba(0, 0, 0, 0.3));\n",
              "      fill: #FFFFFF;\n",
              "    }\n",
              "  </style>\n",
              "\n",
              "      <script>\n",
              "        const buttonEl =\n",
              "          document.querySelector('#df-008748bc-1129-41ac-89c0-0c2a21cba684 button.colab-df-convert');\n",
              "        buttonEl.style.display =\n",
              "          google.colab.kernel.accessAllowed ? 'block' : 'none';\n",
              "\n",
              "        async function convertToInteractive(key) {\n",
              "          const element = document.querySelector('#df-008748bc-1129-41ac-89c0-0c2a21cba684');\n",
              "          const dataTable =\n",
              "            await google.colab.kernel.invokeFunction('convertToInteractive',\n",
              "                                                     [key], {});\n",
              "          if (!dataTable) return;\n",
              "\n",
              "          const docLinkHtml = 'Like what you see? Visit the ' +\n",
              "            '<a target=\"_blank\" href=https://colab.research.google.com/notebooks/data_table.ipynb>data table notebook</a>'\n",
              "            + ' to learn more about interactive tables.';\n",
              "          element.innerHTML = '';\n",
              "          dataTable['output_type'] = 'display_data';\n",
              "          await google.colab.output.renderOutput(dataTable, element);\n",
              "          const docLink = document.createElement('div');\n",
              "          docLink.innerHTML = docLinkHtml;\n",
              "          element.appendChild(docLink);\n",
              "        }\n",
              "      </script>\n",
              "    </div>\n",
              "  </div>\n",
              "  "
            ]
          },
          "metadata": {},
          "execution_count": 9
        }
      ]
    },
    {
      "cell_type": "markdown",
      "source": [],
      "metadata": {
        "id": "mN5WQZ0WRKnB"
      }
    },
    {
      "cell_type": "markdown",
      "source": [
        "###Limpeza dos Dados / Engenharia de Atributo\n"
      ],
      "metadata": {
        "id": "zRW7BEA8OtTI"
      }
    },
    {
      "cell_type": "code",
      "source": [
        "# Verificando se há valores nulos\n",
        "\n",
        "dataset.isnull().sum()"
      ],
      "metadata": {
        "colab": {
          "base_uri": "https://localhost:8080/"
        },
        "id": "_423ey8HOyeH",
        "outputId": "e961d679-8857-47a9-88c3-dfad2adef370"
      },
      "execution_count": 10,
      "outputs": [
        {
          "output_type": "execute_result",
          "data": {
            "text/plain": [
              "encounter_id                    0\n",
              "patient_nbr                     0\n",
              "race                         2273\n",
              "gender                          3\n",
              "age                             0\n",
              "weight                      98569\n",
              "admission_type_id               0\n",
              "discharge_disposition_id        0\n",
              "admission_source_id             0\n",
              "time_in_hospital                0\n",
              "payer_code                  40256\n",
              "medical_specialty           49949\n",
              "num_lab_procedures              0\n",
              "num_procedures                  0\n",
              "num_medications                 0\n",
              "number_outpatient               0\n",
              "number_emergency                0\n",
              "number_inpatient                0\n",
              "diag_1                         21\n",
              "diag_2                        358\n",
              "diag_3                       1423\n",
              "number_diagnoses                0\n",
              "max_glu_serum                   0\n",
              "A1Cresult                       0\n",
              "metformin                       0\n",
              "repaglinide                     0\n",
              "nateglinide                     0\n",
              "chlorpropamide                  0\n",
              "glimepiride                     0\n",
              "acetohexamide                   0\n",
              "glipizide                       0\n",
              "glyburide                       0\n",
              "tolbutamide                     0\n",
              "pioglitazone                    0\n",
              "rosiglitazone                   0\n",
              "acarbose                        0\n",
              "miglitol                        0\n",
              "troglitazone                    0\n",
              "tolazamide                      0\n",
              "examide                         0\n",
              "citoglipton                     0\n",
              "insulin                         0\n",
              "glyburide-metformin             0\n",
              "glipizide-metformin             0\n",
              "glimepiride-pioglitazone        0\n",
              "metformin-rosiglitazone         0\n",
              "metformin-pioglitazone          0\n",
              "change                          0\n",
              "diabetesMed                     0\n",
              "readmitted                      0\n",
              "dtype: int64"
            ]
          },
          "metadata": {},
          "execution_count": 10
        }
      ]
    },
    {
      "cell_type": "markdown",
      "source": [
        "# Como podemos ver teoricamente não há valores nulos, porém como foi mostrado no head o caracter \"?\" ,logo ele representa a  ausencia de informação , com isso se configura em um valor nulo. Iremos aplicar outra função para quantificar esses valores nulos."
      ],
      "metadata": {
        "id": "2NjyqKYlPGX-"
      }
    },
    {
      "cell_type": "code",
      "source": [
        "# Verificando a quantidade relativa valores nulos (\"?\") por varáveis\n",
        "\n",
        "valores_na_percent = round(dataset.isin(['?']).sum()/shape[0]*100,0)\n",
        "valores_na_percent\n"
      ],
      "metadata": {
        "colab": {
          "base_uri": "https://localhost:8080/"
        },
        "id": "RpARve1yPaKn",
        "outputId": "3532f3e8-a7ea-4dee-9032-5a80c06cd42a"
      },
      "execution_count": 11,
      "outputs": [
        {
          "output_type": "execute_result",
          "data": {
            "text/plain": [
              "encounter_id                0.0\n",
              "patient_nbr                 0.0\n",
              "race                        0.0\n",
              "gender                      0.0\n",
              "age                         0.0\n",
              "weight                      0.0\n",
              "admission_type_id           0.0\n",
              "discharge_disposition_id    0.0\n",
              "admission_source_id         0.0\n",
              "time_in_hospital            0.0\n",
              "payer_code                  0.0\n",
              "medical_specialty           0.0\n",
              "num_lab_procedures          0.0\n",
              "num_procedures              0.0\n",
              "num_medications             0.0\n",
              "number_outpatient           0.0\n",
              "number_emergency            0.0\n",
              "number_inpatient            0.0\n",
              "diag_1                      0.0\n",
              "diag_2                      0.0\n",
              "diag_3                      0.0\n",
              "number_diagnoses            0.0\n",
              "max_glu_serum               0.0\n",
              "A1Cresult                   0.0\n",
              "metformin                   0.0\n",
              "repaglinide                 0.0\n",
              "nateglinide                 0.0\n",
              "chlorpropamide              0.0\n",
              "glimepiride                 0.0\n",
              "acetohexamide               0.0\n",
              "glipizide                   0.0\n",
              "glyburide                   0.0\n",
              "tolbutamide                 0.0\n",
              "pioglitazone                0.0\n",
              "rosiglitazone               0.0\n",
              "acarbose                    0.0\n",
              "miglitol                    0.0\n",
              "troglitazone                0.0\n",
              "tolazamide                  0.0\n",
              "examide                     0.0\n",
              "citoglipton                 0.0\n",
              "insulin                     0.0\n",
              "glyburide-metformin         0.0\n",
              "glipizide-metformin         0.0\n",
              "glimepiride-pioglitazone    0.0\n",
              "metformin-rosiglitazone     0.0\n",
              "metformin-pioglitazone      0.0\n",
              "change                      0.0\n",
              "diabetesMed                 0.0\n",
              "readmitted                  0.0\n",
              "dtype: float64"
            ]
          },
          "metadata": {},
          "execution_count": 11
        }
      ]
    },
    {
      "cell_type": "markdown",
      "source": [
        "#Variáveis com percent acima de 30%  serão dropadas (weight,payer_code,medical_specialty) , por haver um percent consideravel de valores nulos e não serem tão fundamental no nosso dataset."
      ],
      "metadata": {
        "id": "qmvwfAvsfo1z"
      }
    },
    {
      "cell_type": "code",
      "source": [
        "# Dropando as colunas com 30%> de valores ausentes\n",
        "\n",
        "dataset = dataset.drop( ['weight','payer_code','medical_specialty'], axis =1 )"
      ],
      "metadata": {
        "id": "WY_trxDkgBi7"
      },
      "execution_count": 12,
      "outputs": []
    },
    {
      "cell_type": "code",
      "source": [
        "# Removendo os registros das colunas que possuem valores ausentes abaixo de 30%\n",
        "dataset = dataset.replace('?','')"
      ],
      "metadata": {
        "id": "-4pQmvq1hQj8"
      },
      "execution_count": 13,
      "outputs": []
    },
    {
      "cell_type": "code",
      "source": [
        "dataset = dataset.dropna()"
      ],
      "metadata": {
        "id": "SB_OpicPhyqM"
      },
      "execution_count": 14,
      "outputs": []
    },
    {
      "cell_type": "code",
      "source": [
        "# Verificando a quantidade relativa valores nulos (\"?\") por varáveis\n",
        "valores_na_percent = round(dataset.isin(['?']).sum()/shape[0]*100,0)\n",
        "valores_na_percent"
      ],
      "metadata": {
        "colab": {
          "base_uri": "https://localhost:8080/"
        },
        "id": "NerafLGzh458",
        "outputId": "f3ee8657-6188-4fc1-b4a9-284ed6aa8b0e"
      },
      "execution_count": 15,
      "outputs": [
        {
          "output_type": "execute_result",
          "data": {
            "text/plain": [
              "encounter_id                0.0\n",
              "patient_nbr                 0.0\n",
              "race                        0.0\n",
              "gender                      0.0\n",
              "age                         0.0\n",
              "admission_type_id           0.0\n",
              "discharge_disposition_id    0.0\n",
              "admission_source_id         0.0\n",
              "time_in_hospital            0.0\n",
              "num_lab_procedures          0.0\n",
              "num_procedures              0.0\n",
              "num_medications             0.0\n",
              "number_outpatient           0.0\n",
              "number_emergency            0.0\n",
              "number_inpatient            0.0\n",
              "diag_1                      0.0\n",
              "diag_2                      0.0\n",
              "diag_3                      0.0\n",
              "number_diagnoses            0.0\n",
              "max_glu_serum               0.0\n",
              "A1Cresult                   0.0\n",
              "metformin                   0.0\n",
              "repaglinide                 0.0\n",
              "nateglinide                 0.0\n",
              "chlorpropamide              0.0\n",
              "glimepiride                 0.0\n",
              "acetohexamide               0.0\n",
              "glipizide                   0.0\n",
              "glyburide                   0.0\n",
              "tolbutamide                 0.0\n",
              "pioglitazone                0.0\n",
              "rosiglitazone               0.0\n",
              "acarbose                    0.0\n",
              "miglitol                    0.0\n",
              "troglitazone                0.0\n",
              "tolazamide                  0.0\n",
              "examide                     0.0\n",
              "citoglipton                 0.0\n",
              "insulin                     0.0\n",
              "glyburide-metformin         0.0\n",
              "glipizide-metformin         0.0\n",
              "glimepiride-pioglitazone    0.0\n",
              "metformin-rosiglitazone     0.0\n",
              "metformin-pioglitazone      0.0\n",
              "change                      0.0\n",
              "diabetesMed                 0.0\n",
              "readmitted                  0.0\n",
              "dtype: float64"
            ]
          },
          "metadata": {},
          "execution_count": 15
        }
      ]
    },
    {
      "cell_type": "code",
      "source": [
        "# Checamos se há variáveis que só tem um valor , se tiver iremos dropar essas constantes ('examide','citoglipton')\n",
        "\n",
        "\n",
        "dataset.loc[:,dataset.nunique() == 1]"
      ],
      "metadata": {
        "colab": {
          "base_uri": "https://localhost:8080/",
          "height": 424
        },
        "id": "MKlu4vmOiNLT",
        "outputId": "195fd0bc-e479-42f9-f7fd-706a7c7c7d0d"
      },
      "execution_count": 16,
      "outputs": [
        {
          "output_type": "execute_result",
          "data": {
            "text/plain": [
              "       examide citoglipton metformin-rosiglitazone\n",
              "1           No          No                      No\n",
              "2           No          No                      No\n",
              "3           No          No                      No\n",
              "4           No          No                      No\n",
              "5           No          No                      No\n",
              "...        ...         ...                     ...\n",
              "101761      No          No                      No\n",
              "101762      No          No                      No\n",
              "101763      No          No                      No\n",
              "101764      No          No                      No\n",
              "101765      No          No                      No\n",
              "\n",
              "[98052 rows x 3 columns]"
            ],
            "text/html": [
              "\n",
              "  <div id=\"df-c8c730ff-e27b-4564-bb50-ecc8da750f3b\">\n",
              "    <div class=\"colab-df-container\">\n",
              "      <div>\n",
              "<style scoped>\n",
              "    .dataframe tbody tr th:only-of-type {\n",
              "        vertical-align: middle;\n",
              "    }\n",
              "\n",
              "    .dataframe tbody tr th {\n",
              "        vertical-align: top;\n",
              "    }\n",
              "\n",
              "    .dataframe thead th {\n",
              "        text-align: right;\n",
              "    }\n",
              "</style>\n",
              "<table border=\"1\" class=\"dataframe\">\n",
              "  <thead>\n",
              "    <tr style=\"text-align: right;\">\n",
              "      <th></th>\n",
              "      <th>examide</th>\n",
              "      <th>citoglipton</th>\n",
              "      <th>metformin-rosiglitazone</th>\n",
              "    </tr>\n",
              "  </thead>\n",
              "  <tbody>\n",
              "    <tr>\n",
              "      <th>1</th>\n",
              "      <td>No</td>\n",
              "      <td>No</td>\n",
              "      <td>No</td>\n",
              "    </tr>\n",
              "    <tr>\n",
              "      <th>2</th>\n",
              "      <td>No</td>\n",
              "      <td>No</td>\n",
              "      <td>No</td>\n",
              "    </tr>\n",
              "    <tr>\n",
              "      <th>3</th>\n",
              "      <td>No</td>\n",
              "      <td>No</td>\n",
              "      <td>No</td>\n",
              "    </tr>\n",
              "    <tr>\n",
              "      <th>4</th>\n",
              "      <td>No</td>\n",
              "      <td>No</td>\n",
              "      <td>No</td>\n",
              "    </tr>\n",
              "    <tr>\n",
              "      <th>5</th>\n",
              "      <td>No</td>\n",
              "      <td>No</td>\n",
              "      <td>No</td>\n",
              "    </tr>\n",
              "    <tr>\n",
              "      <th>...</th>\n",
              "      <td>...</td>\n",
              "      <td>...</td>\n",
              "      <td>...</td>\n",
              "    </tr>\n",
              "    <tr>\n",
              "      <th>101761</th>\n",
              "      <td>No</td>\n",
              "      <td>No</td>\n",
              "      <td>No</td>\n",
              "    </tr>\n",
              "    <tr>\n",
              "      <th>101762</th>\n",
              "      <td>No</td>\n",
              "      <td>No</td>\n",
              "      <td>No</td>\n",
              "    </tr>\n",
              "    <tr>\n",
              "      <th>101763</th>\n",
              "      <td>No</td>\n",
              "      <td>No</td>\n",
              "      <td>No</td>\n",
              "    </tr>\n",
              "    <tr>\n",
              "      <th>101764</th>\n",
              "      <td>No</td>\n",
              "      <td>No</td>\n",
              "      <td>No</td>\n",
              "    </tr>\n",
              "    <tr>\n",
              "      <th>101765</th>\n",
              "      <td>No</td>\n",
              "      <td>No</td>\n",
              "      <td>No</td>\n",
              "    </tr>\n",
              "  </tbody>\n",
              "</table>\n",
              "<p>98052 rows × 3 columns</p>\n",
              "</div>\n",
              "      <button class=\"colab-df-convert\" onclick=\"convertToInteractive('df-c8c730ff-e27b-4564-bb50-ecc8da750f3b')\"\n",
              "              title=\"Convert this dataframe to an interactive table.\"\n",
              "              style=\"display:none;\">\n",
              "        \n",
              "  <svg xmlns=\"http://www.w3.org/2000/svg\" height=\"24px\"viewBox=\"0 0 24 24\"\n",
              "       width=\"24px\">\n",
              "    <path d=\"M0 0h24v24H0V0z\" fill=\"none\"/>\n",
              "    <path d=\"M18.56 5.44l.94 2.06.94-2.06 2.06-.94-2.06-.94-.94-2.06-.94 2.06-2.06.94zm-11 1L8.5 8.5l.94-2.06 2.06-.94-2.06-.94L8.5 2.5l-.94 2.06-2.06.94zm10 10l.94 2.06.94-2.06 2.06-.94-2.06-.94-.94-2.06-.94 2.06-2.06.94z\"/><path d=\"M17.41 7.96l-1.37-1.37c-.4-.4-.92-.59-1.43-.59-.52 0-1.04.2-1.43.59L10.3 9.45l-7.72 7.72c-.78.78-.78 2.05 0 2.83L4 21.41c.39.39.9.59 1.41.59.51 0 1.02-.2 1.41-.59l7.78-7.78 2.81-2.81c.8-.78.8-2.07 0-2.86zM5.41 20L4 18.59l7.72-7.72 1.47 1.35L5.41 20z\"/>\n",
              "  </svg>\n",
              "      </button>\n",
              "      \n",
              "  <style>\n",
              "    .colab-df-container {\n",
              "      display:flex;\n",
              "      flex-wrap:wrap;\n",
              "      gap: 12px;\n",
              "    }\n",
              "\n",
              "    .colab-df-convert {\n",
              "      background-color: #E8F0FE;\n",
              "      border: none;\n",
              "      border-radius: 50%;\n",
              "      cursor: pointer;\n",
              "      display: none;\n",
              "      fill: #1967D2;\n",
              "      height: 32px;\n",
              "      padding: 0 0 0 0;\n",
              "      width: 32px;\n",
              "    }\n",
              "\n",
              "    .colab-df-convert:hover {\n",
              "      background-color: #E2EBFA;\n",
              "      box-shadow: 0px 1px 2px rgba(60, 64, 67, 0.3), 0px 1px 3px 1px rgba(60, 64, 67, 0.15);\n",
              "      fill: #174EA6;\n",
              "    }\n",
              "\n",
              "    [theme=dark] .colab-df-convert {\n",
              "      background-color: #3B4455;\n",
              "      fill: #D2E3FC;\n",
              "    }\n",
              "\n",
              "    [theme=dark] .colab-df-convert:hover {\n",
              "      background-color: #434B5C;\n",
              "      box-shadow: 0px 1px 3px 1px rgba(0, 0, 0, 0.15);\n",
              "      filter: drop-shadow(0px 1px 2px rgba(0, 0, 0, 0.3));\n",
              "      fill: #FFFFFF;\n",
              "    }\n",
              "  </style>\n",
              "\n",
              "      <script>\n",
              "        const buttonEl =\n",
              "          document.querySelector('#df-c8c730ff-e27b-4564-bb50-ecc8da750f3b button.colab-df-convert');\n",
              "        buttonEl.style.display =\n",
              "          google.colab.kernel.accessAllowed ? 'block' : 'none';\n",
              "\n",
              "        async function convertToInteractive(key) {\n",
              "          const element = document.querySelector('#df-c8c730ff-e27b-4564-bb50-ecc8da750f3b');\n",
              "          const dataTable =\n",
              "            await google.colab.kernel.invokeFunction('convertToInteractive',\n",
              "                                                     [key], {});\n",
              "          if (!dataTable) return;\n",
              "\n",
              "          const docLinkHtml = 'Like what you see? Visit the ' +\n",
              "            '<a target=\"_blank\" href=https://colab.research.google.com/notebooks/data_table.ipynb>data table notebook</a>'\n",
              "            + ' to learn more about interactive tables.';\n",
              "          element.innerHTML = '';\n",
              "          dataTable['output_type'] = 'display_data';\n",
              "          await google.colab.output.renderOutput(dataTable, element);\n",
              "          const docLink = document.createElement('div');\n",
              "          docLink.innerHTML = docLinkHtml;\n",
              "          element.appendChild(docLink);\n",
              "        }\n",
              "      </script>\n",
              "    </div>\n",
              "  </div>\n",
              "  "
            ]
          },
          "metadata": {},
          "execution_count": 16
        }
      ]
    },
    {
      "cell_type": "code",
      "source": [
        "# Dropando as colunas com valores unicos \n",
        "\n",
        "dataset = dataset.drop( ['examide','citoglipton'], axis =1 )"
      ],
      "metadata": {
        "id": "fYQ4A3wZjV8D"
      },
      "execution_count": 17,
      "outputs": []
    },
    {
      "cell_type": "code",
      "source": [
        "# Shape\n",
        "\n",
        "dataset.shape"
      ],
      "metadata": {
        "colab": {
          "base_uri": "https://localhost:8080/"
        },
        "id": "61zhANk3jjkz",
        "outputId": "3c12a4a1-6e9c-4ab0-fad9-4a9a7c28eb8e"
      },
      "execution_count": 18,
      "outputs": [
        {
          "output_type": "execute_result",
          "data": {
            "text/plain": [
              "(98052, 45)"
            ]
          },
          "metadata": {},
          "execution_count": 18
        }
      ]
    },
    {
      "cell_type": "markdown",
      "source": [
        "###Engenharia de Atributo"
      ],
      "metadata": {
        "id": "ve1iC-vuf9yI"
      }
    },
    {
      "cell_type": "code",
      "source": [
        "dataset.head()"
      ],
      "metadata": {
        "colab": {
          "base_uri": "https://localhost:8080/",
          "height": 374
        },
        "id": "Xkg7O1rQgAaS",
        "outputId": "8523304b-452a-4d1c-8922-0bda0986af18"
      },
      "execution_count": 19,
      "outputs": [
        {
          "output_type": "execute_result",
          "data": {
            "text/plain": [
              "   encounter_id  patient_nbr             race  gender      age  \\\n",
              "1        149190     55629189        Caucasian  Female  [10-20)   \n",
              "2         64410     86047875  AfricanAmerican  Female  [20-30)   \n",
              "3        500364     82442376        Caucasian    Male  [30-40)   \n",
              "4         16680     42519267        Caucasian    Male  [40-50)   \n",
              "5         35754     82637451        Caucasian    Male  [50-60)   \n",
              "\n",
              "   admission_type_id  discharge_disposition_id  admission_source_id  \\\n",
              "1                  1                         1                    7   \n",
              "2                  1                         1                    7   \n",
              "3                  1                         1                    7   \n",
              "4                  1                         1                    7   \n",
              "5                  2                         1                    2   \n",
              "\n",
              "   time_in_hospital  num_lab_procedures  num_procedures  num_medications  \\\n",
              "1                 3                  59               0               18   \n",
              "2                 2                  11               5               13   \n",
              "3                 2                  44               1               16   \n",
              "4                 1                  51               0                8   \n",
              "5                 3                  31               6               16   \n",
              "\n",
              "   number_outpatient  number_emergency  number_inpatient diag_1  diag_2  \\\n",
              "1                  0                 0                 0    276  250.01   \n",
              "2                  2                 0                 1    648     250   \n",
              "3                  0                 0                 0      8  250.43   \n",
              "4                  0                 0                 0    197     157   \n",
              "5                  0                 0                 0    414     411   \n",
              "\n",
              "  diag_3  number_diagnoses max_glu_serum A1Cresult metformin repaglinide  \\\n",
              "1    255                 9          None      None        No          No   \n",
              "2    V27                 6          None      None        No          No   \n",
              "3    403                 7          None      None        No          No   \n",
              "4    250                 5          None      None        No          No   \n",
              "5    250                 9          None      None        No          No   \n",
              "\n",
              "  nateglinide chlorpropamide glimepiride acetohexamide glipizide glyburide  \\\n",
              "1          No             No          No            No        No        No   \n",
              "2          No             No          No            No    Steady        No   \n",
              "3          No             No          No            No        No        No   \n",
              "4          No             No          No            No    Steady        No   \n",
              "5          No             No          No            No        No        No   \n",
              "\n",
              "  tolbutamide pioglitazone rosiglitazone acarbose miglitol troglitazone  \\\n",
              "1          No           No            No       No       No           No   \n",
              "2          No           No            No       No       No           No   \n",
              "3          No           No            No       No       No           No   \n",
              "4          No           No            No       No       No           No   \n",
              "5          No           No            No       No       No           No   \n",
              "\n",
              "  tolazamide insulin glyburide-metformin glipizide-metformin  \\\n",
              "1         No      Up                  No                  No   \n",
              "2         No      No                  No                  No   \n",
              "3         No      Up                  No                  No   \n",
              "4         No  Steady                  No                  No   \n",
              "5         No  Steady                  No                  No   \n",
              "\n",
              "  glimepiride-pioglitazone metformin-rosiglitazone metformin-pioglitazone  \\\n",
              "1                       No                      No                     No   \n",
              "2                       No                      No                     No   \n",
              "3                       No                      No                     No   \n",
              "4                       No                      No                     No   \n",
              "5                       No                      No                     No   \n",
              "\n",
              "  change diabetesMed readmitted  \n",
              "1     Ch         Yes        >30  \n",
              "2     No         Yes         NO  \n",
              "3     Ch         Yes         NO  \n",
              "4     Ch         Yes         NO  \n",
              "5     No         Yes        >30  "
            ],
            "text/html": [
              "\n",
              "  <div id=\"df-3a1b78aa-164f-446d-9044-84f2544a5cb3\">\n",
              "    <div class=\"colab-df-container\">\n",
              "      <div>\n",
              "<style scoped>\n",
              "    .dataframe tbody tr th:only-of-type {\n",
              "        vertical-align: middle;\n",
              "    }\n",
              "\n",
              "    .dataframe tbody tr th {\n",
              "        vertical-align: top;\n",
              "    }\n",
              "\n",
              "    .dataframe thead th {\n",
              "        text-align: right;\n",
              "    }\n",
              "</style>\n",
              "<table border=\"1\" class=\"dataframe\">\n",
              "  <thead>\n",
              "    <tr style=\"text-align: right;\">\n",
              "      <th></th>\n",
              "      <th>encounter_id</th>\n",
              "      <th>patient_nbr</th>\n",
              "      <th>race</th>\n",
              "      <th>gender</th>\n",
              "      <th>age</th>\n",
              "      <th>admission_type_id</th>\n",
              "      <th>discharge_disposition_id</th>\n",
              "      <th>admission_source_id</th>\n",
              "      <th>time_in_hospital</th>\n",
              "      <th>num_lab_procedures</th>\n",
              "      <th>num_procedures</th>\n",
              "      <th>num_medications</th>\n",
              "      <th>number_outpatient</th>\n",
              "      <th>number_emergency</th>\n",
              "      <th>number_inpatient</th>\n",
              "      <th>diag_1</th>\n",
              "      <th>diag_2</th>\n",
              "      <th>diag_3</th>\n",
              "      <th>number_diagnoses</th>\n",
              "      <th>max_glu_serum</th>\n",
              "      <th>A1Cresult</th>\n",
              "      <th>metformin</th>\n",
              "      <th>repaglinide</th>\n",
              "      <th>nateglinide</th>\n",
              "      <th>chlorpropamide</th>\n",
              "      <th>glimepiride</th>\n",
              "      <th>acetohexamide</th>\n",
              "      <th>glipizide</th>\n",
              "      <th>glyburide</th>\n",
              "      <th>tolbutamide</th>\n",
              "      <th>pioglitazone</th>\n",
              "      <th>rosiglitazone</th>\n",
              "      <th>acarbose</th>\n",
              "      <th>miglitol</th>\n",
              "      <th>troglitazone</th>\n",
              "      <th>tolazamide</th>\n",
              "      <th>insulin</th>\n",
              "      <th>glyburide-metformin</th>\n",
              "      <th>glipizide-metformin</th>\n",
              "      <th>glimepiride-pioglitazone</th>\n",
              "      <th>metformin-rosiglitazone</th>\n",
              "      <th>metformin-pioglitazone</th>\n",
              "      <th>change</th>\n",
              "      <th>diabetesMed</th>\n",
              "      <th>readmitted</th>\n",
              "    </tr>\n",
              "  </thead>\n",
              "  <tbody>\n",
              "    <tr>\n",
              "      <th>1</th>\n",
              "      <td>149190</td>\n",
              "      <td>55629189</td>\n",
              "      <td>Caucasian</td>\n",
              "      <td>Female</td>\n",
              "      <td>[10-20)</td>\n",
              "      <td>1</td>\n",
              "      <td>1</td>\n",
              "      <td>7</td>\n",
              "      <td>3</td>\n",
              "      <td>59</td>\n",
              "      <td>0</td>\n",
              "      <td>18</td>\n",
              "      <td>0</td>\n",
              "      <td>0</td>\n",
              "      <td>0</td>\n",
              "      <td>276</td>\n",
              "      <td>250.01</td>\n",
              "      <td>255</td>\n",
              "      <td>9</td>\n",
              "      <td>None</td>\n",
              "      <td>None</td>\n",
              "      <td>No</td>\n",
              "      <td>No</td>\n",
              "      <td>No</td>\n",
              "      <td>No</td>\n",
              "      <td>No</td>\n",
              "      <td>No</td>\n",
              "      <td>No</td>\n",
              "      <td>No</td>\n",
              "      <td>No</td>\n",
              "      <td>No</td>\n",
              "      <td>No</td>\n",
              "      <td>No</td>\n",
              "      <td>No</td>\n",
              "      <td>No</td>\n",
              "      <td>No</td>\n",
              "      <td>Up</td>\n",
              "      <td>No</td>\n",
              "      <td>No</td>\n",
              "      <td>No</td>\n",
              "      <td>No</td>\n",
              "      <td>No</td>\n",
              "      <td>Ch</td>\n",
              "      <td>Yes</td>\n",
              "      <td>&gt;30</td>\n",
              "    </tr>\n",
              "    <tr>\n",
              "      <th>2</th>\n",
              "      <td>64410</td>\n",
              "      <td>86047875</td>\n",
              "      <td>AfricanAmerican</td>\n",
              "      <td>Female</td>\n",
              "      <td>[20-30)</td>\n",
              "      <td>1</td>\n",
              "      <td>1</td>\n",
              "      <td>7</td>\n",
              "      <td>2</td>\n",
              "      <td>11</td>\n",
              "      <td>5</td>\n",
              "      <td>13</td>\n",
              "      <td>2</td>\n",
              "      <td>0</td>\n",
              "      <td>1</td>\n",
              "      <td>648</td>\n",
              "      <td>250</td>\n",
              "      <td>V27</td>\n",
              "      <td>6</td>\n",
              "      <td>None</td>\n",
              "      <td>None</td>\n",
              "      <td>No</td>\n",
              "      <td>No</td>\n",
              "      <td>No</td>\n",
              "      <td>No</td>\n",
              "      <td>No</td>\n",
              "      <td>No</td>\n",
              "      <td>Steady</td>\n",
              "      <td>No</td>\n",
              "      <td>No</td>\n",
              "      <td>No</td>\n",
              "      <td>No</td>\n",
              "      <td>No</td>\n",
              "      <td>No</td>\n",
              "      <td>No</td>\n",
              "      <td>No</td>\n",
              "      <td>No</td>\n",
              "      <td>No</td>\n",
              "      <td>No</td>\n",
              "      <td>No</td>\n",
              "      <td>No</td>\n",
              "      <td>No</td>\n",
              "      <td>No</td>\n",
              "      <td>Yes</td>\n",
              "      <td>NO</td>\n",
              "    </tr>\n",
              "    <tr>\n",
              "      <th>3</th>\n",
              "      <td>500364</td>\n",
              "      <td>82442376</td>\n",
              "      <td>Caucasian</td>\n",
              "      <td>Male</td>\n",
              "      <td>[30-40)</td>\n",
              "      <td>1</td>\n",
              "      <td>1</td>\n",
              "      <td>7</td>\n",
              "      <td>2</td>\n",
              "      <td>44</td>\n",
              "      <td>1</td>\n",
              "      <td>16</td>\n",
              "      <td>0</td>\n",
              "      <td>0</td>\n",
              "      <td>0</td>\n",
              "      <td>8</td>\n",
              "      <td>250.43</td>\n",
              "      <td>403</td>\n",
              "      <td>7</td>\n",
              "      <td>None</td>\n",
              "      <td>None</td>\n",
              "      <td>No</td>\n",
              "      <td>No</td>\n",
              "      <td>No</td>\n",
              "      <td>No</td>\n",
              "      <td>No</td>\n",
              "      <td>No</td>\n",
              "      <td>No</td>\n",
              "      <td>No</td>\n",
              "      <td>No</td>\n",
              "      <td>No</td>\n",
              "      <td>No</td>\n",
              "      <td>No</td>\n",
              "      <td>No</td>\n",
              "      <td>No</td>\n",
              "      <td>No</td>\n",
              "      <td>Up</td>\n",
              "      <td>No</td>\n",
              "      <td>No</td>\n",
              "      <td>No</td>\n",
              "      <td>No</td>\n",
              "      <td>No</td>\n",
              "      <td>Ch</td>\n",
              "      <td>Yes</td>\n",
              "      <td>NO</td>\n",
              "    </tr>\n",
              "    <tr>\n",
              "      <th>4</th>\n",
              "      <td>16680</td>\n",
              "      <td>42519267</td>\n",
              "      <td>Caucasian</td>\n",
              "      <td>Male</td>\n",
              "      <td>[40-50)</td>\n",
              "      <td>1</td>\n",
              "      <td>1</td>\n",
              "      <td>7</td>\n",
              "      <td>1</td>\n",
              "      <td>51</td>\n",
              "      <td>0</td>\n",
              "      <td>8</td>\n",
              "      <td>0</td>\n",
              "      <td>0</td>\n",
              "      <td>0</td>\n",
              "      <td>197</td>\n",
              "      <td>157</td>\n",
              "      <td>250</td>\n",
              "      <td>5</td>\n",
              "      <td>None</td>\n",
              "      <td>None</td>\n",
              "      <td>No</td>\n",
              "      <td>No</td>\n",
              "      <td>No</td>\n",
              "      <td>No</td>\n",
              "      <td>No</td>\n",
              "      <td>No</td>\n",
              "      <td>Steady</td>\n",
              "      <td>No</td>\n",
              "      <td>No</td>\n",
              "      <td>No</td>\n",
              "      <td>No</td>\n",
              "      <td>No</td>\n",
              "      <td>No</td>\n",
              "      <td>No</td>\n",
              "      <td>No</td>\n",
              "      <td>Steady</td>\n",
              "      <td>No</td>\n",
              "      <td>No</td>\n",
              "      <td>No</td>\n",
              "      <td>No</td>\n",
              "      <td>No</td>\n",
              "      <td>Ch</td>\n",
              "      <td>Yes</td>\n",
              "      <td>NO</td>\n",
              "    </tr>\n",
              "    <tr>\n",
              "      <th>5</th>\n",
              "      <td>35754</td>\n",
              "      <td>82637451</td>\n",
              "      <td>Caucasian</td>\n",
              "      <td>Male</td>\n",
              "      <td>[50-60)</td>\n",
              "      <td>2</td>\n",
              "      <td>1</td>\n",
              "      <td>2</td>\n",
              "      <td>3</td>\n",
              "      <td>31</td>\n",
              "      <td>6</td>\n",
              "      <td>16</td>\n",
              "      <td>0</td>\n",
              "      <td>0</td>\n",
              "      <td>0</td>\n",
              "      <td>414</td>\n",
              "      <td>411</td>\n",
              "      <td>250</td>\n",
              "      <td>9</td>\n",
              "      <td>None</td>\n",
              "      <td>None</td>\n",
              "      <td>No</td>\n",
              "      <td>No</td>\n",
              "      <td>No</td>\n",
              "      <td>No</td>\n",
              "      <td>No</td>\n",
              "      <td>No</td>\n",
              "      <td>No</td>\n",
              "      <td>No</td>\n",
              "      <td>No</td>\n",
              "      <td>No</td>\n",
              "      <td>No</td>\n",
              "      <td>No</td>\n",
              "      <td>No</td>\n",
              "      <td>No</td>\n",
              "      <td>No</td>\n",
              "      <td>Steady</td>\n",
              "      <td>No</td>\n",
              "      <td>No</td>\n",
              "      <td>No</td>\n",
              "      <td>No</td>\n",
              "      <td>No</td>\n",
              "      <td>No</td>\n",
              "      <td>Yes</td>\n",
              "      <td>&gt;30</td>\n",
              "    </tr>\n",
              "  </tbody>\n",
              "</table>\n",
              "</div>\n",
              "      <button class=\"colab-df-convert\" onclick=\"convertToInteractive('df-3a1b78aa-164f-446d-9044-84f2544a5cb3')\"\n",
              "              title=\"Convert this dataframe to an interactive table.\"\n",
              "              style=\"display:none;\">\n",
              "        \n",
              "  <svg xmlns=\"http://www.w3.org/2000/svg\" height=\"24px\"viewBox=\"0 0 24 24\"\n",
              "       width=\"24px\">\n",
              "    <path d=\"M0 0h24v24H0V0z\" fill=\"none\"/>\n",
              "    <path d=\"M18.56 5.44l.94 2.06.94-2.06 2.06-.94-2.06-.94-.94-2.06-.94 2.06-2.06.94zm-11 1L8.5 8.5l.94-2.06 2.06-.94-2.06-.94L8.5 2.5l-.94 2.06-2.06.94zm10 10l.94 2.06.94-2.06 2.06-.94-2.06-.94-.94-2.06-.94 2.06-2.06.94z\"/><path d=\"M17.41 7.96l-1.37-1.37c-.4-.4-.92-.59-1.43-.59-.52 0-1.04.2-1.43.59L10.3 9.45l-7.72 7.72c-.78.78-.78 2.05 0 2.83L4 21.41c.39.39.9.59 1.41.59.51 0 1.02-.2 1.41-.59l7.78-7.78 2.81-2.81c.8-.78.8-2.07 0-2.86zM5.41 20L4 18.59l7.72-7.72 1.47 1.35L5.41 20z\"/>\n",
              "  </svg>\n",
              "      </button>\n",
              "      \n",
              "  <style>\n",
              "    .colab-df-container {\n",
              "      display:flex;\n",
              "      flex-wrap:wrap;\n",
              "      gap: 12px;\n",
              "    }\n",
              "\n",
              "    .colab-df-convert {\n",
              "      background-color: #E8F0FE;\n",
              "      border: none;\n",
              "      border-radius: 50%;\n",
              "      cursor: pointer;\n",
              "      display: none;\n",
              "      fill: #1967D2;\n",
              "      height: 32px;\n",
              "      padding: 0 0 0 0;\n",
              "      width: 32px;\n",
              "    }\n",
              "\n",
              "    .colab-df-convert:hover {\n",
              "      background-color: #E2EBFA;\n",
              "      box-shadow: 0px 1px 2px rgba(60, 64, 67, 0.3), 0px 1px 3px 1px rgba(60, 64, 67, 0.15);\n",
              "      fill: #174EA6;\n",
              "    }\n",
              "\n",
              "    [theme=dark] .colab-df-convert {\n",
              "      background-color: #3B4455;\n",
              "      fill: #D2E3FC;\n",
              "    }\n",
              "\n",
              "    [theme=dark] .colab-df-convert:hover {\n",
              "      background-color: #434B5C;\n",
              "      box-shadow: 0px 1px 3px 1px rgba(0, 0, 0, 0.15);\n",
              "      filter: drop-shadow(0px 1px 2px rgba(0, 0, 0, 0.3));\n",
              "      fill: #FFFFFF;\n",
              "    }\n",
              "  </style>\n",
              "\n",
              "      <script>\n",
              "        const buttonEl =\n",
              "          document.querySelector('#df-3a1b78aa-164f-446d-9044-84f2544a5cb3 button.colab-df-convert');\n",
              "        buttonEl.style.display =\n",
              "          google.colab.kernel.accessAllowed ? 'block' : 'none';\n",
              "\n",
              "        async function convertToInteractive(key) {\n",
              "          const element = document.querySelector('#df-3a1b78aa-164f-446d-9044-84f2544a5cb3');\n",
              "          const dataTable =\n",
              "            await google.colab.kernel.invokeFunction('convertToInteractive',\n",
              "                                                     [key], {});\n",
              "          if (!dataTable) return;\n",
              "\n",
              "          const docLinkHtml = 'Like what you see? Visit the ' +\n",
              "            '<a target=\"_blank\" href=https://colab.research.google.com/notebooks/data_table.ipynb>data table notebook</a>'\n",
              "            + ' to learn more about interactive tables.';\n",
              "          element.innerHTML = '';\n",
              "          dataTable['output_type'] = 'display_data';\n",
              "          await google.colab.output.renderOutput(dataTable, element);\n",
              "          const docLink = document.createElement('div');\n",
              "          docLink.innerHTML = docLinkHtml;\n",
              "          element.appendChild(docLink);\n",
              "        }\n",
              "      </script>\n",
              "    </div>\n",
              "  </div>\n",
              "  "
            ]
          },
          "metadata": {},
          "execution_count": 19
        }
      ]
    },
    {
      "cell_type": "code",
      "source": [
        "# Verificando os valores que aparecem na nossa varável target\n",
        "\n",
        "dataset.value_counts(['readmitted'])"
      ],
      "metadata": {
        "colab": {
          "base_uri": "https://localhost:8080/"
        },
        "id": "MkjtRFWbgSP3",
        "outputId": "5d6b4f74-1c71-4144-c599-ada2100212f5"
      },
      "execution_count": 20,
      "outputs": [
        {
          "output_type": "execute_result",
          "data": {
            "text/plain": [
              "readmitted\n",
              "NO            52337\n",
              ">30           34649\n",
              "<30           11066\n",
              "dtype: int64"
            ]
          },
          "metadata": {},
          "execution_count": 20
        }
      ]
    },
    {
      "cell_type": "markdown",
      "source": [
        "Vamos aplicar a técnica de binarização, 1 para readmitido e 0 para não readmitido"
      ],
      "metadata": {
        "id": "FcFz5JAngiwJ"
      }
    },
    {
      "cell_type": "code",
      "source": [
        "#Criando uma cópia do nosso datrafame\n",
        "\n",
        "dataset_copy = dataset"
      ],
      "metadata": {
        "id": "lsWAGnrGgsEg"
      },
      "execution_count": 21,
      "outputs": []
    },
    {
      "cell_type": "code",
      "source": [
        "# Fazendo o dê-para\n",
        "\n",
        "dataset_copy['readmitted'] = dataset_copy['readmitted'].replace('>30',1)\n",
        "dataset_copy['readmitted'] = dataset_copy['readmitted'].replace('<30',1)\n",
        "dataset_copy['readmitted'] = dataset_copy['readmitted'].replace('NO',0)\n"
      ],
      "metadata": {
        "id": "bQO2DDehgyoX"
      },
      "execution_count": 22,
      "outputs": []
    },
    {
      "cell_type": "code",
      "source": [
        "# Verificando os valores que aparecem na nossa varável target após a transformação\n",
        "\n",
        "dataset_copy.value_counts(['readmitted'])"
      ],
      "metadata": {
        "colab": {
          "base_uri": "https://localhost:8080/"
        },
        "id": "QZsF2lNPg1sH",
        "outputId": "9bec9e4e-4add-45c4-e7e5-b32af70011bf"
      },
      "execution_count": 23,
      "outputs": [
        {
          "output_type": "execute_result",
          "data": {
            "text/plain": [
              "readmitted\n",
              "0             52337\n",
              "1             45715\n",
              "dtype: int64"
            ]
          },
          "metadata": {},
          "execution_count": 23
        }
      ]
    },
    {
      "cell_type": "code",
      "source": [
        "# Verificando os valores que aparecem na 'age'\n",
        "\n",
        "dataset_copy.groupby('age').size().plot(kind = 'bar')"
      ],
      "metadata": {
        "colab": {
          "base_uri": "https://localhost:8080/",
          "height": 512
        },
        "id": "ABP6kd8DiL0f",
        "outputId": "b62d7a04-0796-48c1-b5ee-70cbbfb9ae93"
      },
      "execution_count": 24,
      "outputs": [
        {
          "output_type": "execute_result",
          "data": {
            "text/plain": [
              "<Axes: xlabel='age'>"
            ]
          },
          "metadata": {},
          "execution_count": 24
        },
        {
          "output_type": "display_data",
          "data": {
            "text/plain": [
              "<Figure size 640x480 with 1 Axes>"
            ],
            "image/png": "[encoded data removed]"
          },
          "metadata": {}
        }
      ]
    },
    {
      "cell_type": "markdown",
      "source": [
        "Para deixar a distribuição menos dispersa, iremos agrupar os dados começando da faixa etária de 0-50"
      ],
      "metadata": {
        "id": "yexapbwZjfOy"
      }
    },
    {
      "cell_type": "code",
      "source": [
        "dataset_copy.value_counts(['age'])"
      ],
      "metadata": {
        "colab": {
          "base_uri": "https://localhost:8080/"
        },
        "id": "_-B8GY6Dj3N4",
        "outputId": "2eb51fa6-d3ab-4f6b-a9d0-231d8d856842"
      },
      "execution_count": 25,
      "outputs": [
        {
          "output_type": "execute_result",
          "data": {
            "text/plain": [
              "age     \n",
              "[70-80)     25305\n",
              "[60-70)     21809\n",
              "[80-90)     16702\n",
              "[50-60)     16697\n",
              "[40-50)      9265\n",
              "[30-40)      3548\n",
              "[90-100)     2717\n",
              "[20-30)      1478\n",
              "[10-20)       466\n",
              "[0-10)         65\n",
              "dtype: int64"
            ]
          },
          "metadata": {},
          "execution_count": 25
        }
      ]
    },
    {
      "cell_type": "code",
      "source": [
        "# Fazendo o dê-para\n",
        "\n",
        "dataset_copy['age'] = dataset_copy['age'].replace('[0-10)','[0-50)')\n",
        "dataset_copy['age'] = dataset_copy['age'].replace('[10-20)','[0-50)')\n",
        "dataset_copy['age'] = dataset_copy['age'].replace('[20-30)','[0-50)')\n",
        "dataset_copy['age'] = dataset_copy['age'].replace('[30-40)','[0-50)')\n",
        "dataset_copy['age'] = dataset_copy['age'].replace('[40-50)','[0-50)')\n",
        "\n"
      ],
      "metadata": {
        "id": "qzCMGCiujpCg"
      },
      "execution_count": 26,
      "outputs": []
    },
    {
      "cell_type": "code",
      "source": [
        "dataset_copy.value_counts(['age'])"
      ],
      "metadata": {
        "colab": {
          "base_uri": "https://localhost:8080/"
        },
        "id": "C_3J-d9kkZkR",
        "outputId": "2f3242e7-6e59-4f6c-c1f9-137f793e8cb6"
      },
      "execution_count": 27,
      "outputs": [
        {
          "output_type": "execute_result",
          "data": {
            "text/plain": [
              "age     \n",
              "[70-80)     25305\n",
              "[60-70)     21809\n",
              "[80-90)     16702\n",
              "[50-60)     16697\n",
              "[0-50)      14822\n",
              "[90-100)     2717\n",
              "dtype: int64"
            ]
          },
          "metadata": {},
          "execution_count": 27
        }
      ]
    },
    {
      "cell_type": "code",
      "source": [
        "# Verificando os valores que aparecem na 'age' após a transformação\n",
        "\n",
        "dataset_copy.groupby('age').size().plot(kind = 'bar')"
      ],
      "metadata": {
        "colab": {
          "base_uri": "https://localhost:8080/",
          "height": 512
        },
        "id": "pPxJnTdTkdxH",
        "outputId": "cc835e5b-634a-4e1f-95ea-203e5658baaa"
      },
      "execution_count": 28,
      "outputs": [
        {
          "output_type": "execute_result",
          "data": {
            "text/plain": [
              "<Axes: xlabel='age'>"
            ]
          },
          "metadata": {},
          "execution_count": 28
        },
        {
          "output_type": "display_data",
          "data": {
            "text/plain": [
              "<Figure size 640x480 with 1 Axes>"
            ],
            "image/png": "[encoded data removed]"
          },
          "metadata": {}
        }
      ]
    },
    {
      "cell_type": "code",
      "source": [
        "# Verificando os valores que aparecem na  varável 'admission_type_id'\n",
        "dataset_copy.value_counts(['admission_type_id'])"
      ],
      "metadata": {
        "colab": {
          "base_uri": "https://localhost:8080/"
        },
        "id": "d23A4uU7lU7n",
        "outputId": "0f1a8ab2-f91a-4720-a902-09cfdd6c8199"
      },
      "execution_count": 29,
      "outputs": [
        {
          "output_type": "execute_result",
          "data": {
            "text/plain": [
              "admission_type_id\n",
              "1                    52178\n",
              "3                    18193\n",
              "2                    17543\n",
              "6                     5135\n",
              "5                     4661\n",
              "8                      312\n",
              "7                       20\n",
              "4                       10\n",
              "dtype: int64"
            ]
          },
          "metadata": {},
          "execution_count": 29
        }
      ]
    },
    {
      "cell_type": "markdown",
      "source": [
        "Iremos reduzir os níveis dessa variavel somente para 2 níveis (Emergencia e Outros)"
      ],
      "metadata": {
        "id": "YU2tM3dsldKw"
      }
    },
    {
      "cell_type": "code",
      "source": [
        "# Fazendo o dê-para\n",
        "\n",
        "dataset_copy['admission_type_id'] = dataset_copy['admission_type_id'].replace(1,'Emergencia')\n",
        "dataset_copy['admission_type_id'] = dataset_copy['admission_type_id'].replace(2,'Outro')\n",
        "dataset_copy['admission_type_id'] = dataset_copy['admission_type_id'].replace(3,'Outro')\n",
        "dataset_copy['admission_type_id'] = dataset_copy['admission_type_id'].replace(4,'Outro')\n",
        "dataset_copy['admission_type_id'] = dataset_copy['admission_type_id'].replace(5,'Outro')\n",
        "dataset_copy['admission_type_id'] = dataset_copy['admission_type_id'].replace(6,'Outro')\n",
        "dataset_copy['admission_type_id'] = dataset_copy['admission_type_id'].replace(7,'Outro')\n",
        "dataset_copy['admission_type_id'] = dataset_copy['admission_type_id'].replace(8,'Outro')\n"
      ],
      "metadata": {
        "id": "ZQ00S0zpllhw"
      },
      "execution_count": 30,
      "outputs": []
    },
    {
      "cell_type": "code",
      "source": [
        "# Verificando os valores que aparecem na  varável 'admission_type_id' após a transformação\n",
        "dataset_copy.value_counts(['admission_type_id'])"
      ],
      "metadata": {
        "colab": {
          "base_uri": "https://localhost:8080/"
        },
        "id": "PU2nbyn9mGVp",
        "outputId": "b6b7e989-ed44-4faf-c544-1d71875cb80f"
      },
      "execution_count": 31,
      "outputs": [
        {
          "output_type": "execute_result",
          "data": {
            "text/plain": [
              "admission_type_id\n",
              "Emergencia           52178\n",
              "Outro                45874\n",
              "dtype: int64"
            ]
          },
          "metadata": {},
          "execution_count": 31
        }
      ]
    },
    {
      "cell_type": "code",
      "source": [
        "# Verificando os valores que aparecem na  varável 'discharge_disposition_id'\n",
        "dataset_copy.value_counts(['discharge_disposition_id'])"
      ],
      "metadata": {
        "colab": {
          "base_uri": "https://localhost:8080/"
        },
        "id": "HAnnTK4pmbtp",
        "outputId": "463bb73c-0092-45d2-b63b-90ed5f829462"
      },
      "execution_count": 32,
      "outputs": [
        {
          "output_type": "execute_result",
          "data": {
            "text/plain": [
              "discharge_disposition_id\n",
              "1                           57609\n",
              "3                           13564\n",
              "6                           12626\n",
              "18                           3624\n",
              "2                            2049\n",
              "22                           1970\n",
              "11                           1606\n",
              "5                            1127\n",
              "25                            941\n",
              "4                             756\n",
              "7                             592\n",
              "23                            400\n",
              "13                            396\n",
              "14                            368\n",
              "28                            137\n",
              "8                             106\n",
              "15                             63\n",
              "24                             48\n",
              "9                              21\n",
              "17                             14\n",
              "16                             11\n",
              "19                              8\n",
              "10                              6\n",
              "27                              5\n",
              "12                              3\n",
              "20                              2\n",
              "dtype: int64"
            ]
          },
          "metadata": {},
          "execution_count": 32
        }
      ]
    },
    {
      "cell_type": "code",
      "source": [
        "dataset_copy.discharge_disposition_id.unique()"
      ],
      "metadata": {
        "colab": {
          "base_uri": "https://localhost:8080/"
        },
        "id": "cnOIcyp_nVKR",
        "outputId": "cc432106-1480-4114-8846-67de6a74b77f"
      },
      "execution_count": 33,
      "outputs": [
        {
          "output_type": "execute_result",
          "data": {
            "text/plain": [
              "array([ 1,  3,  6,  2,  5, 11,  7, 25, 10,  4, 14, 18,  8, 13, 12, 16, 17,\n",
              "       22, 23,  9, 20, 15, 24, 28, 19, 27])"
            ]
          },
          "metadata": {},
          "execution_count": 33
        }
      ]
    },
    {
      "cell_type": "markdown",
      "source": [
        "Iremos reduzir os níveis dessa variavel somente para 2 níveis (Casa e Outro)"
      ],
      "metadata": {
        "id": "2Ul26X25mrtA"
      }
    },
    {
      "cell_type": "code",
      "source": [
        "# Fazendo o dê-para\n",
        "\n",
        "dataset_copy['discharge_disposition_id'] = dataset_copy['discharge_disposition_id'].replace(1,'Casa')\n",
        "dataset_copy['discharge_disposition_id'] = dataset_copy['discharge_disposition_id'].replace(25,'Outro')\n",
        "dataset_copy['discharge_disposition_id'] = dataset_copy['discharge_disposition_id'].replace(6,'Outro')\n",
        "dataset_copy['discharge_disposition_id'] = dataset_copy['discharge_disposition_id'].replace(2,'Outro')\n",
        "dataset_copy['discharge_disposition_id'] = dataset_copy['discharge_disposition_id'].replace(5,'Outro')\n",
        "dataset_copy['discharge_disposition_id'] = dataset_copy['discharge_disposition_id'].replace(11,'Outro')\n",
        "dataset_copy['discharge_disposition_id'] = dataset_copy['discharge_disposition_id'].replace(7,'Outro')\n",
        "dataset_copy['discharge_disposition_id'] = dataset_copy['discharge_disposition_id'].replace(10,'Outro')\n",
        "dataset_copy['discharge_disposition_id'] = dataset_copy['discharge_disposition_id'].replace(4,'Outro')\n",
        "dataset_copy['discharge_disposition_id'] = dataset_copy['discharge_disposition_id'].replace(14,'Outro')\n",
        "dataset_copy['discharge_disposition_id'] = dataset_copy['discharge_disposition_id'].replace(18,'Outro')\n",
        "dataset_copy['discharge_disposition_id'] = dataset_copy['discharge_disposition_id'].replace(8,'Outro')\n",
        "dataset_copy['discharge_disposition_id'] = dataset_copy['discharge_disposition_id'].replace(13,'Outro')\n",
        "dataset_copy['discharge_disposition_id'] = dataset_copy['discharge_disposition_id'].replace(12,'Outro')\n",
        "dataset_copy['discharge_disposition_id'] = dataset_copy['discharge_disposition_id'].replace(16,'Outro')\n",
        "dataset_copy['discharge_disposition_id'] = dataset_copy['discharge_disposition_id'].replace(17,'Outro')\n",
        "dataset_copy['discharge_disposition_id'] = dataset_copy['discharge_disposition_id'].replace(22,'Outro')\n",
        "dataset_copy['discharge_disposition_id'] = dataset_copy['discharge_disposition_id'].replace(23,'Outro')\n",
        "dataset_copy['discharge_disposition_id'] = dataset_copy['discharge_disposition_id'].replace(9,'Outro')\n",
        "dataset_copy['discharge_disposition_id'] = dataset_copy['discharge_disposition_id'].replace(20,'Outro')\n",
        "dataset_copy['discharge_disposition_id'] = dataset_copy['discharge_disposition_id'].replace(15,'Outro')\n",
        "dataset_copy['discharge_disposition_id'] = dataset_copy['discharge_disposition_id'].replace(24,'Outro')\n",
        "dataset_copy['discharge_disposition_id'] = dataset_copy['discharge_disposition_id'].replace(28,'Outro')\n",
        "dataset_copy['discharge_disposition_id'] = dataset_copy['discharge_disposition_id'].replace(19,'Outro')\n",
        "dataset_copy['discharge_disposition_id'] = dataset_copy['discharge_disposition_id'].replace(27,'Outro')\n",
        "dataset_copy['discharge_disposition_id'] = dataset_copy['discharge_disposition_id'].replace(3,'Outro')\n",
        "\n",
        "#Poderiamos criar um loop\n",
        "\n",
        "#dataset_copy['discharge_disposition_id'] = pd.Series(['Casa' if val == 1 else 'Outro' for val in dados ['discharge_disposition_id']], index = dados.index)\n"
      ],
      "metadata": {
        "id": "a8HHuJqimuWZ"
      },
      "execution_count": 34,
      "outputs": []
    },
    {
      "cell_type": "code",
      "source": [
        "dataset_copy.discharge_disposition_id.unique()\n"
      ],
      "metadata": {
        "colab": {
          "base_uri": "https://localhost:8080/"
        },
        "id": "qYqWW2qEoDJN",
        "outputId": "2f44f4b3-170c-4e3f-a692-aebc9bcbbb49"
      },
      "execution_count": 35,
      "outputs": [
        {
          "output_type": "execute_result",
          "data": {
            "text/plain": [
              "array(['Casa', 'Outro'], dtype=object)"
            ]
          },
          "metadata": {},
          "execution_count": 35
        }
      ]
    },
    {
      "cell_type": "code",
      "source": [
        "# Verificando os valores que aparecem na  varável 'admission_source_id'\n",
        "dataset_copy.value_counts(['admission_source_id'])\n",
        "\n",
        "\n"
      ],
      "metadata": {
        "colab": {
          "base_uri": "https://localhost:8080/"
        },
        "id": "CZ625pNiokfo",
        "outputId": "e2e53cb5-3d68-4f34-f57c-0a599dc44839"
      },
      "execution_count": 36,
      "outputs": [
        {
          "output_type": "execute_result",
          "data": {
            "text/plain": [
              "admission_source_id\n",
              "7                      55951\n",
              "1                      28355\n",
              "17                      6602\n",
              "4                       2945\n",
              "6                       1893\n",
              "2                       1031\n",
              "5                        846\n",
              "3                        179\n",
              "20                       160\n",
              "9                         49\n",
              "8                         15\n",
              "22                        12\n",
              "10                         7\n",
              "11                         2\n",
              "14                         2\n",
              "25                         2\n",
              "13                         1\n",
              "dtype: int64"
            ]
          },
          "metadata": {},
          "execution_count": 36
        }
      ]
    },
    {
      "cell_type": "markdown",
      "source": [
        "Iremos reduzir os níveis dessa variavel somente para 3 níveis (Sala_Emergencia, Recomendacao e Outro)"
      ],
      "metadata": {
        "id": "meMmOu7tpOdL"
      }
    },
    {
      "cell_type": "code",
      "source": [
        "# Fazendo o dê-para\n",
        "\n",
        "dataset_copy['admission_source_id'] = dataset_copy['admission_source_id'].replace(7,'Sala_Emergencia')\n",
        "dataset_copy['admission_source_id'] = dataset_copy['admission_source_id'].replace(1,'Recomendacao')\n",
        "dataset_copy['admission_source_id'] = dataset_copy['admission_source_id'].replace(17,'Outro')\n",
        "dataset_copy['admission_source_id'] = dataset_copy['admission_source_id'].replace(4,'Outro')\n",
        "dataset_copy['admission_source_id'] = dataset_copy['admission_source_id'].replace(6,'Outro')\n",
        "dataset_copy['admission_source_id'] = dataset_copy['admission_source_id'].replace(2,'Outro')\n",
        "dataset_copy['admission_source_id'] = dataset_copy['admission_source_id'].replace(5,'Outro')\n",
        "dataset_copy['admission_source_id'] = dataset_copy['admission_source_id'].replace(3,'Outro')\n",
        "dataset_copy['admission_source_id'] = dataset_copy['admission_source_id'].replace(20,'Outro')\n",
        "dataset_copy['admission_source_id'] = dataset_copy['admission_source_id'].replace(9,'Outro')\n",
        "dataset_copy['admission_source_id'] = dataset_copy['admission_source_id'].replace(8,'Outro')\n",
        "dataset_copy['admission_source_id'] = dataset_copy['admission_source_id'].replace(22,'Outro')\n",
        "dataset_copy['admission_source_id'] = dataset_copy['admission_source_id'].replace(10,'Outro')\n",
        "dataset_copy['admission_source_id'] = dataset_copy['admission_source_id'].replace(11,'Outro')\n",
        "dataset_copy['admission_source_id'] = dataset_copy['admission_source_id'].replace(14,'Outro')\n",
        "dataset_copy['admission_source_id'] = dataset_copy['admission_source_id'].replace(25,'Outro')\n",
        "dataset_copy['admission_source_id'] = dataset_copy['admission_source_id'].replace(13,'Outro')\n"
      ],
      "metadata": {
        "id": "QuGUWQLxpWKB"
      },
      "execution_count": 37,
      "outputs": []
    },
    {
      "cell_type": "code",
      "source": [
        "# Verificando os valores que aparecem na  varável 'admission_source_id' após a trnasformação\n",
        "dataset_copy.value_counts(['admission_source_id'])"
      ],
      "metadata": {
        "id": "oI2KJqIkqI2Z",
        "outputId": "a3a9d38f-d3c5-4d41-8ea3-7305a15b4892",
        "colab": {
          "base_uri": "https://localhost:8080/"
        }
      },
      "execution_count": 38,
      "outputs": [
        {
          "output_type": "execute_result",
          "data": {
            "text/plain": [
              "admission_source_id\n",
              "Sala_Emergencia        55951\n",
              "Recomendacao           28355\n",
              "Outro                  13746\n",
              "dtype: int64"
            ]
          },
          "metadata": {},
          "execution_count": 38
        }
      ]
    },
    {
      "cell_type": "markdown",
      "source": [
        "Com a requisição da área de negocio : Houve ou não mudança na dosagem dos medicamentos ministrados? Qual a frequência dessas mudanças e quantos medicamentos foram utilizado em um determinado paciente?\n",
        "\n",
        "Com isso iremos agrupar essas mais de 23 variaveis de medicamentos, criando duas (2) novas colunas num_alt_dosagem, num_med."
      ],
      "metadata": {
        "id": "xlXkc2BkUC1q"
      }
    },
    {
      "cell_type": "code",
      "source": [
        "dataset_copy.columns"
      ],
      "metadata": {
        "colab": {
          "base_uri": "https://localhost:8080/"
        },
        "id": "Ck55aPDGUaWa",
        "outputId": "788e60f8-50ad-4c1e-a4f2-c55d3d66cd8f"
      },
      "execution_count": 39,
      "outputs": [
        {
          "output_type": "execute_result",
          "data": {
            "text/plain": [
              "Index(['encounter_id', 'patient_nbr', 'race', 'gender', 'age',\n",
              "       'admission_type_id', 'discharge_disposition_id', 'admission_source_id',\n",
              "       'time_in_hospital', 'num_lab_procedures', 'num_procedures',\n",
              "       'num_medications', 'number_outpatient', 'number_emergency',\n",
              "       'number_inpatient', 'diag_1', 'diag_2', 'diag_3', 'number_diagnoses',\n",
              "       'max_glu_serum', 'A1Cresult', 'metformin', 'repaglinide', 'nateglinide',\n",
              "       'chlorpropamide', 'glimepiride', 'acetohexamide', 'glipizide',\n",
              "       'glyburide', 'tolbutamide', 'pioglitazone', 'rosiglitazone', 'acarbose',\n",
              "       'miglitol', 'troglitazone', 'tolazamide', 'insulin',\n",
              "       'glyburide-metformin', 'glipizide-metformin',\n",
              "       'glimepiride-pioglitazone', 'metformin-rosiglitazone',\n",
              "       'metformin-pioglitazone', 'change', 'diabetesMed', 'readmitted'],\n",
              "      dtype='object')"
            ]
          },
          "metadata": {},
          "execution_count": 39
        }
      ]
    },
    {
      "cell_type": "code",
      "source": [
        "# Lista com os nomes das variáveis de medicamentos (3 variáveis já tinham sido removidas)\n",
        "medicamentos = ['metformin', 'repaglinide', 'nateglinide', 'chlorpropamide', 'glimepiride', 'acetohexamide', \n",
        "                'glipizide', 'glyburide', 'tolbutamide', 'pioglitazone', 'rosiglitazone', 'acarbose', 'miglitol', \n",
        "                'troglitazone', 'tolazamide', 'insulin', 'glyburide-metformin', 'glipizide-metformin', \n",
        "                'glimepiride-pioglitazone', 'metformin-pioglitazone', 'metformin-rosiglitazone']"
      ],
      "metadata": {
        "id": "2kqnYaozUbLq"
      },
      "execution_count": 40,
      "outputs": []
    },
    {
      "cell_type": "code",
      "source": [
        "# Loop para ajustar o valor das variáveis\n",
        "for col in medicamentos:\n",
        "    if col in dataset_copy.columns:\n",
        "        colname = str(col) + 'temp'\n",
        "        dataset_copy[colname] = dataset_copy[col].apply(lambda x: 0 if (x == 'No' or x == 'Steady') else 1)"
      ],
      "metadata": {
        "id": "HF6SWQzEYTr6"
      },
      "execution_count": 41,
      "outputs": []
    },
    {
      "cell_type": "code",
      "source": [
        "# Cria uma variável para receber a contagem por paciente\n",
        "dataset_copy['num_alt_dosagem_med'] = 0"
      ],
      "metadata": {
        "id": "tXMHw2H8YYzK"
      },
      "execution_count": 42,
      "outputs": []
    },
    {
      "cell_type": "code",
      "source": [
        "# Contagem de modificações na dosagem de medicamentos\n",
        "for col in medicamentos:\n",
        "    if col in dataset_copy.columns:\n",
        "        colname = str(col) + 'temp'\n",
        "        dataset_copy['num_alt_dosagem_med'] = dataset_copy['num_alt_dosagem_med'] + dataset_copy[colname]\n",
        "        del dataset_copy[colname]"
      ],
      "metadata": {
        "id": "C6cyZ6RIYchD"
      },
      "execution_count": 43,
      "outputs": []
    },
    {
      "cell_type": "code",
      "source": [
        "# Verifica o total por modificações na dosagem de medicamentos\n",
        "dataset_copy.num_alt_dosagem_med.value_counts()"
      ],
      "metadata": {
        "colab": {
          "base_uri": "https://localhost:8080/"
        },
        "id": "J2-GynrDYg1a",
        "outputId": "39bd446c-e407-4b84-9801-456fd783bf20"
      },
      "execution_count": 44,
      "outputs": [
        {
          "output_type": "execute_result",
          "data": {
            "text/plain": [
              "0    71309\n",
              "1    25350\n",
              "2     1281\n",
              "3      107\n",
              "4        5\n",
              "Name: num_alt_dosagem_med, dtype: int64"
            ]
          },
          "metadata": {},
          "execution_count": 44
        }
      ]
    },
    {
      "cell_type": "code",
      "source": [
        "dataset_copy.head()"
      ],
      "metadata": {
        "colab": {
          "base_uri": "https://localhost:8080/",
          "height": 374
        },
        "id": "2FOODPYyYy8r",
        "outputId": "d64933f0-2e47-4f34-adbd-81a4feb17354"
      },
      "execution_count": 45,
      "outputs": [
        {
          "output_type": "execute_result",
          "data": {
            "text/plain": [
              "   encounter_id  patient_nbr             race  gender      age  \\\n",
              "1        149190     55629189        Caucasian  Female   [0-50)   \n",
              "2         64410     86047875  AfricanAmerican  Female   [0-50)   \n",
              "3        500364     82442376        Caucasian    Male   [0-50)   \n",
              "4         16680     42519267        Caucasian    Male   [0-50)   \n",
              "5         35754     82637451        Caucasian    Male  [50-60)   \n",
              "\n",
              "  admission_type_id discharge_disposition_id admission_source_id  \\\n",
              "1        Emergencia                     Casa     Sala_Emergencia   \n",
              "2        Emergencia                     Casa     Sala_Emergencia   \n",
              "3        Emergencia                     Casa     Sala_Emergencia   \n",
              "4        Emergencia                     Casa     Sala_Emergencia   \n",
              "5             Outro                     Casa               Outro   \n",
              "\n",
              "   time_in_hospital  num_lab_procedures  num_procedures  num_medications  \\\n",
              "1                 3                  59               0               18   \n",
              "2                 2                  11               5               13   \n",
              "3                 2                  44               1               16   \n",
              "4                 1                  51               0                8   \n",
              "5                 3                  31               6               16   \n",
              "\n",
              "   number_outpatient  number_emergency  number_inpatient diag_1  diag_2  \\\n",
              "1                  0                 0                 0    276  250.01   \n",
              "2                  2                 0                 1    648     250   \n",
              "3                  0                 0                 0      8  250.43   \n",
              "4                  0                 0                 0    197     157   \n",
              "5                  0                 0                 0    414     411   \n",
              "\n",
              "  diag_3  number_diagnoses max_glu_serum A1Cresult metformin repaglinide  \\\n",
              "1    255                 9          None      None        No          No   \n",
              "2    V27                 6          None      None        No          No   \n",
              "3    403                 7          None      None        No          No   \n",
              "4    250                 5          None      None        No          No   \n",
              "5    250                 9          None      None        No          No   \n",
              "\n",
              "  nateglinide chlorpropamide glimepiride acetohexamide glipizide glyburide  \\\n",
              "1          No             No          No            No        No        No   \n",
              "2          No             No          No            No    Steady        No   \n",
              "3          No             No          No            No        No        No   \n",
              "4          No             No          No            No    Steady        No   \n",
              "5          No             No          No            No        No        No   \n",
              "\n",
              "  tolbutamide pioglitazone rosiglitazone acarbose miglitol troglitazone  \\\n",
              "1          No           No            No       No       No           No   \n",
              "2          No           No            No       No       No           No   \n",
              "3          No           No            No       No       No           No   \n",
              "4          No           No            No       No       No           No   \n",
              "5          No           No            No       No       No           No   \n",
              "\n",
              "  tolazamide insulin glyburide-metformin glipizide-metformin  \\\n",
              "1         No      Up                  No                  No   \n",
              "2         No      No                  No                  No   \n",
              "3         No      Up                  No                  No   \n",
              "4         No  Steady                  No                  No   \n",
              "5         No  Steady                  No                  No   \n",
              "\n",
              "  glimepiride-pioglitazone metformin-rosiglitazone metformin-pioglitazone  \\\n",
              "1                       No                      No                     No   \n",
              "2                       No                      No                     No   \n",
              "3                       No                      No                     No   \n",
              "4                       No                      No                     No   \n",
              "5                       No                      No                     No   \n",
              "\n",
              "  change diabetesMed  readmitted  num_alt_dosagem_med  \n",
              "1     Ch         Yes           1                    1  \n",
              "2     No         Yes           0                    0  \n",
              "3     Ch         Yes           0                    1  \n",
              "4     Ch         Yes           0                    0  \n",
              "5     No         Yes           1                    0  "
            ],
            "text/html": [
              "\n",
              "  <div id=\"df-0f74eb31-f8d6-4b08-ba27-67b3c244668b\">\n",
              "    <div class=\"colab-df-container\">\n",
              "      <div>\n",
              "<style scoped>\n",
              "    .dataframe tbody tr th:only-of-type {\n",
              "        vertical-align: middle;\n",
              "    }\n",
              "\n",
              "    .dataframe tbody tr th {\n",
              "        vertical-align: top;\n",
              "    }\n",
              "\n",
              "    .dataframe thead th {\n",
              "        text-align: right;\n",
              "    }\n",
              "</style>\n",
              "<table border=\"1\" class=\"dataframe\">\n",
              "  <thead>\n",
              "    <tr style=\"text-align: right;\">\n",
              "      <th></th>\n",
              "      <th>encounter_id</th>\n",
              "      <th>patient_nbr</th>\n",
              "      <th>race</th>\n",
              "      <th>gender</th>\n",
              "      <th>age</th>\n",
              "      <th>admission_type_id</th>\n",
              "      <th>discharge_disposition_id</th>\n",
              "      <th>admission_source_id</th>\n",
              "      <th>time_in_hospital</th>\n",
              "      <th>num_lab_procedures</th>\n",
              "      <th>num_procedures</th>\n",
              "      <th>num_medications</th>\n",
              "      <th>number_outpatient</th>\n",
              "      <th>number_emergency</th>\n",
              "      <th>number_inpatient</th>\n",
              "      <th>diag_1</th>\n",
              "      <th>diag_2</th>\n",
              "      <th>diag_3</th>\n",
              "      <th>number_diagnoses</th>\n",
              "      <th>max_glu_serum</th>\n",
              "      <th>A1Cresult</th>\n",
              "      <th>metformin</th>\n",
              "      <th>repaglinide</th>\n",
              "      <th>nateglinide</th>\n",
              "      <th>chlorpropamide</th>\n",
              "      <th>glimepiride</th>\n",
              "      <th>acetohexamide</th>\n",
              "      <th>glipizide</th>\n",
              "      <th>glyburide</th>\n",
              "      <th>tolbutamide</th>\n",
              "      <th>pioglitazone</th>\n",
              "      <th>rosiglitazone</th>\n",
              "      <th>acarbose</th>\n",
              "      <th>miglitol</th>\n",
              "      <th>troglitazone</th>\n",
              "      <th>tolazamide</th>\n",
              "      <th>insulin</th>\n",
              "      <th>glyburide-metformin</th>\n",
              "      <th>glipizide-metformin</th>\n",
              "      <th>glimepiride-pioglitazone</th>\n",
              "      <th>metformin-rosiglitazone</th>\n",
              "      <th>metformin-pioglitazone</th>\n",
              "      <th>change</th>\n",
              "      <th>diabetesMed</th>\n",
              "      <th>readmitted</th>\n",
              "      <th>num_alt_dosagem_med</th>\n",
              "    </tr>\n",
              "  </thead>\n",
              "  <tbody>\n",
              "    <tr>\n",
              "      <th>1</th>\n",
              "      <td>149190</td>\n",
              "      <td>55629189</td>\n",
              "      <td>Caucasian</td>\n",
              "      <td>Female</td>\n",
              "      <td>[0-50)</td>\n",
              "      <td>Emergencia</td>\n",
              "      <td>Casa</td>\n",
              "      <td>Sala_Emergencia</td>\n",
              "      <td>3</td>\n",
              "      <td>59</td>\n",
              "      <td>0</td>\n",
              "      <td>18</td>\n",
              "      <td>0</td>\n",
              "      <td>0</td>\n",
              "      <td>0</td>\n",
              "      <td>276</td>\n",
              "      <td>250.01</td>\n",
              "      <td>255</td>\n",
              "      <td>9</td>\n",
              "      <td>None</td>\n",
              "      <td>None</td>\n",
              "      <td>No</td>\n",
              "      <td>No</td>\n",
              "      <td>No</td>\n",
              "      <td>No</td>\n",
              "      <td>No</td>\n",
              "      <td>No</td>\n",
              "      <td>No</td>\n",
              "      <td>No</td>\n",
              "      <td>No</td>\n",
              "      <td>No</td>\n",
              "      <td>No</td>\n",
              "      <td>No</td>\n",
              "      <td>No</td>\n",
              "      <td>No</td>\n",
              "      <td>No</td>\n",
              "      <td>Up</td>\n",
              "      <td>No</td>\n",
              "      <td>No</td>\n",
              "      <td>No</td>\n",
              "      <td>No</td>\n",
              "      <td>No</td>\n",
              "      <td>Ch</td>\n",
              "      <td>Yes</td>\n",
              "      <td>1</td>\n",
              "      <td>1</td>\n",
              "    </tr>\n",
              "    <tr>\n",
              "      <th>2</th>\n",
              "      <td>64410</td>\n",
              "      <td>86047875</td>\n",
              "      <td>AfricanAmerican</td>\n",
              "      <td>Female</td>\n",
              "      <td>[0-50)</td>\n",
              "      <td>Emergencia</td>\n",
              "      <td>Casa</td>\n",
              "      <td>Sala_Emergencia</td>\n",
              "      <td>2</td>\n",
              "      <td>11</td>\n",
              "      <td>5</td>\n",
              "      <td>13</td>\n",
              "      <td>2</td>\n",
              "      <td>0</td>\n",
              "      <td>1</td>\n",
              "      <td>648</td>\n",
              "      <td>250</td>\n",
              "      <td>V27</td>\n",
              "      <td>6</td>\n",
              "      <td>None</td>\n",
              "      <td>None</td>\n",
              "      <td>No</td>\n",
              "      <td>No</td>\n",
              "      <td>No</td>\n",
              "      <td>No</td>\n",
              "      <td>No</td>\n",
              "      <td>No</td>\n",
              "      <td>Steady</td>\n",
              "      <td>No</td>\n",
              "      <td>No</td>\n",
              "      <td>No</td>\n",
              "      <td>No</td>\n",
              "      <td>No</td>\n",
              "      <td>No</td>\n",
              "      <td>No</td>\n",
              "      <td>No</td>\n",
              "      <td>No</td>\n",
              "      <td>No</td>\n",
              "      <td>No</td>\n",
              "      <td>No</td>\n",
              "      <td>No</td>\n",
              "      <td>No</td>\n",
              "      <td>No</td>\n",
              "      <td>Yes</td>\n",
              "      <td>0</td>\n",
              "      <td>0</td>\n",
              "    </tr>\n",
              "    <tr>\n",
              "      <th>3</th>\n",
              "      <td>500364</td>\n",
              "      <td>82442376</td>\n",
              "      <td>Caucasian</td>\n",
              "      <td>Male</td>\n",
              "      <td>[0-50)</td>\n",
              "      <td>Emergencia</td>\n",
              "      <td>Casa</td>\n",
              "      <td>Sala_Emergencia</td>\n",
              "      <td>2</td>\n",
              "      <td>44</td>\n",
              "      <td>1</td>\n",
              "      <td>16</td>\n",
              "      <td>0</td>\n",
              "      <td>0</td>\n",
              "      <td>0</td>\n",
              "      <td>8</td>\n",
              "      <td>250.43</td>\n",
              "      <td>403</td>\n",
              "      <td>7</td>\n",
              "      <td>None</td>\n",
              "      <td>None</td>\n",
              "      <td>No</td>\n",
              "      <td>No</td>\n",
              "      <td>No</td>\n",
              "      <td>No</td>\n",
              "      <td>No</td>\n",
              "      <td>No</td>\n",
              "      <td>No</td>\n",
              "      <td>No</td>\n",
              "      <td>No</td>\n",
              "      <td>No</td>\n",
              "      <td>No</td>\n",
              "      <td>No</td>\n",
              "      <td>No</td>\n",
              "      <td>No</td>\n",
              "      <td>No</td>\n",
              "      <td>Up</td>\n",
              "      <td>No</td>\n",
              "      <td>No</td>\n",
              "      <td>No</td>\n",
              "      <td>No</td>\n",
              "      <td>No</td>\n",
              "      <td>Ch</td>\n",
              "      <td>Yes</td>\n",
              "      <td>0</td>\n",
              "      <td>1</td>\n",
              "    </tr>\n",
              "    <tr>\n",
              "      <th>4</th>\n",
              "      <td>16680</td>\n",
              "      <td>42519267</td>\n",
              "      <td>Caucasian</td>\n",
              "      <td>Male</td>\n",
              "      <td>[0-50)</td>\n",
              "      <td>Emergencia</td>\n",
              "      <td>Casa</td>\n",
              "      <td>Sala_Emergencia</td>\n",
              "      <td>1</td>\n",
              "      <td>51</td>\n",
              "      <td>0</td>\n",
              "      <td>8</td>\n",
              "      <td>0</td>\n",
              "      <td>0</td>\n",
              "      <td>0</td>\n",
              "      <td>197</td>\n",
              "      <td>157</td>\n",
              "      <td>250</td>\n",
              "      <td>5</td>\n",
              "      <td>None</td>\n",
              "      <td>None</td>\n",
              "      <td>No</td>\n",
              "      <td>No</td>\n",
              "      <td>No</td>\n",
              "      <td>No</td>\n",
              "      <td>No</td>\n",
              "      <td>No</td>\n",
              "      <td>Steady</td>\n",
              "      <td>No</td>\n",
              "      <td>No</td>\n",
              "      <td>No</td>\n",
              "      <td>No</td>\n",
              "      <td>No</td>\n",
              "      <td>No</td>\n",
              "      <td>No</td>\n",
              "      <td>No</td>\n",
              "      <td>Steady</td>\n",
              "      <td>No</td>\n",
              "      <td>No</td>\n",
              "      <td>No</td>\n",
              "      <td>No</td>\n",
              "      <td>No</td>\n",
              "      <td>Ch</td>\n",
              "      <td>Yes</td>\n",
              "      <td>0</td>\n",
              "      <td>0</td>\n",
              "    </tr>\n",
              "    <tr>\n",
              "      <th>5</th>\n",
              "      <td>35754</td>\n",
              "      <td>82637451</td>\n",
              "      <td>Caucasian</td>\n",
              "      <td>Male</td>\n",
              "      <td>[50-60)</td>\n",
              "      <td>Outro</td>\n",
              "      <td>Casa</td>\n",
              "      <td>Outro</td>\n",
              "      <td>3</td>\n",
              "      <td>31</td>\n",
              "      <td>6</td>\n",
              "      <td>16</td>\n",
              "      <td>0</td>\n",
              "      <td>0</td>\n",
              "      <td>0</td>\n",
              "      <td>414</td>\n",
              "      <td>411</td>\n",
              "      <td>250</td>\n",
              "      <td>9</td>\n",
              "      <td>None</td>\n",
              "      <td>None</td>\n",
              "      <td>No</td>\n",
              "      <td>No</td>\n",
              "      <td>No</td>\n",
              "      <td>No</td>\n",
              "      <td>No</td>\n",
              "      <td>No</td>\n",
              "      <td>No</td>\n",
              "      <td>No</td>\n",
              "      <td>No</td>\n",
              "      <td>No</td>\n",
              "      <td>No</td>\n",
              "      <td>No</td>\n",
              "      <td>No</td>\n",
              "      <td>No</td>\n",
              "      <td>No</td>\n",
              "      <td>Steady</td>\n",
              "      <td>No</td>\n",
              "      <td>No</td>\n",
              "      <td>No</td>\n",
              "      <td>No</td>\n",
              "      <td>No</td>\n",
              "      <td>No</td>\n",
              "      <td>Yes</td>\n",
              "      <td>1</td>\n",
              "      <td>0</td>\n",
              "    </tr>\n",
              "  </tbody>\n",
              "</table>\n",
              "</div>\n",
              "      <button class=\"colab-df-convert\" onclick=\"convertToInteractive('df-0f74eb31-f8d6-4b08-ba27-67b3c244668b')\"\n",
              "              title=\"Convert this dataframe to an interactive table.\"\n",
              "              style=\"display:none;\">\n",
              "        \n",
              "  <svg xmlns=\"http://www.w3.org/2000/svg\" height=\"24px\"viewBox=\"0 0 24 24\"\n",
              "       width=\"24px\">\n",
              "    <path d=\"M0 0h24v24H0V0z\" fill=\"none\"/>\n",
              "    <path d=\"M18.56 5.44l.94 2.06.94-2.06 2.06-.94-2.06-.94-.94-2.06-.94 2.06-2.06.94zm-11 1L8.5 8.5l.94-2.06 2.06-.94-2.06-.94L8.5 2.5l-.94 2.06-2.06.94zm10 10l.94 2.06.94-2.06 2.06-.94-2.06-.94-.94-2.06-.94 2.06-2.06.94z\"/><path d=\"M17.41 7.96l-1.37-1.37c-.4-.4-.92-.59-1.43-.59-.52 0-1.04.2-1.43.59L10.3 9.45l-7.72 7.72c-.78.78-.78 2.05 0 2.83L4 21.41c.39.39.9.59 1.41.59.51 0 1.02-.2 1.41-.59l7.78-7.78 2.81-2.81c.8-.78.8-2.07 0-2.86zM5.41 20L4 18.59l7.72-7.72 1.47 1.35L5.41 20z\"/>\n",
              "  </svg>\n",
              "      </button>\n",
              "      \n",
              "  <style>\n",
              "    .colab-df-container {\n",
              "      display:flex;\n",
              "      flex-wrap:wrap;\n",
              "      gap: 12px;\n",
              "    }\n",
              "\n",
              "    .colab-df-convert {\n",
              "      background-color: #E8F0FE;\n",
              "      border: none;\n",
              "      border-radius: 50%;\n",
              "      cursor: pointer;\n",
              "      display: none;\n",
              "      fill: #1967D2;\n",
              "      height: 32px;\n",
              "      padding: 0 0 0 0;\n",
              "      width: 32px;\n",
              "    }\n",
              "\n",
              "    .colab-df-convert:hover {\n",
              "      background-color: #E2EBFA;\n",
              "      box-shadow: 0px 1px 2px rgba(60, 64, 67, 0.3), 0px 1px 3px 1px rgba(60, 64, 67, 0.15);\n",
              "      fill: #174EA6;\n",
              "    }\n",
              "\n",
              "    [theme=dark] .colab-df-convert {\n",
              "      background-color: #3B4455;\n",
              "      fill: #D2E3FC;\n",
              "    }\n",
              "\n",
              "    [theme=dark] .colab-df-convert:hover {\n",
              "      background-color: #434B5C;\n",
              "      box-shadow: 0px 1px 3px 1px rgba(0, 0, 0, 0.15);\n",
              "      filter: drop-shadow(0px 1px 2px rgba(0, 0, 0, 0.3));\n",
              "      fill: #FFFFFF;\n",
              "    }\n",
              "  </style>\n",
              "\n",
              "      <script>\n",
              "        const buttonEl =\n",
              "          document.querySelector('#df-0f74eb31-f8d6-4b08-ba27-67b3c244668b button.colab-df-convert');\n",
              "        buttonEl.style.display =\n",
              "          google.colab.kernel.accessAllowed ? 'block' : 'none';\n",
              "\n",
              "        async function convertToInteractive(key) {\n",
              "          const element = document.querySelector('#df-0f74eb31-f8d6-4b08-ba27-67b3c244668b');\n",
              "          const dataTable =\n",
              "            await google.colab.kernel.invokeFunction('convertToInteractive',\n",
              "                                                     [key], {});\n",
              "          if (!dataTable) return;\n",
              "\n",
              "          const docLinkHtml = 'Like what you see? Visit the ' +\n",
              "            '<a target=\"_blank\" href=https://colab.research.google.com/notebooks/data_table.ipynb>data table notebook</a>'\n",
              "            + ' to learn more about interactive tables.';\n",
              "          element.innerHTML = '';\n",
              "          dataTable['output_type'] = 'display_data';\n",
              "          await google.colab.output.renderOutput(dataTable, element);\n",
              "          const docLink = document.createElement('div');\n",
              "          docLink.innerHTML = docLinkHtml;\n",
              "          element.appendChild(docLink);\n",
              "        }\n",
              "      </script>\n",
              "    </div>\n",
              "  </div>\n",
              "  "
            ]
          },
          "metadata": {},
          "execution_count": 45
        }
      ]
    },
    {
      "cell_type": "markdown",
      "source": [
        "Vamos alterar o valor das colunas dos medicamentos para refletir se esse medicamento está sendo administrado a um paciente ou não."
      ],
      "metadata": {
        "id": "Kms5t5gmYzeb"
      }
    },
    {
      "cell_type": "code",
      "source": [
        "# Recoding das colunas de medicamentos\n",
        "for col in medicamentos:\n",
        "    if col in dataset_copy.columns:\n",
        "        dataset_copy[col] = dataset_copy[col].replace('No', 0)\n",
        "        dataset_copy[col] = dataset_copy[col].replace('Steady', 1)\n",
        "        dataset_copy[col] = dataset_copy[col].replace('Up', 1)\n",
        "        dataset_copy[col] = dataset_copy[col].replace('Down', 1) "
      ],
      "metadata": {
        "id": "swr_CSOpY2Ry"
      },
      "execution_count": 46,
      "outputs": []
    },
    {
      "cell_type": "code",
      "source": [
        "# Variável com a contagem de medicamentos por paciente\n",
        "dataset_copy['num_med'] = 0\n"
      ],
      "metadata": {
        "id": "pqbN3ZKMY8cS"
      },
      "execution_count": 47,
      "outputs": []
    },
    {
      "cell_type": "code",
      "source": [
        "# Carregamos a nova variável\n",
        "for col in medicamentos:\n",
        "    if col in dataset_copy.columns:\n",
        "        dataset_copy['num_med'] = dataset_copy['num_med'] + dataset_copy[col]"
      ],
      "metadata": {
        "id": "oXSTEgoaZCGq"
      },
      "execution_count": 48,
      "outputs": []
    },
    {
      "cell_type": "code",
      "source": [
        "# Verifica o total de medicamentos\n",
        "dataset_copy['num_med'].value_counts()"
      ],
      "metadata": {
        "colab": {
          "base_uri": "https://localhost:8080/"
        },
        "id": "Wzrbeq4AZE4s",
        "outputId": "a19e06bb-96f8-4e9c-9aac-10606a6e13c2"
      },
      "execution_count": 49,
      "outputs": [
        {
          "output_type": "execute_result",
          "data": {
            "text/plain": [
              "1    45447\n",
              "0    22702\n",
              "2    21056\n",
              "3     7485\n",
              "4     1300\n",
              "5       57\n",
              "6        5\n",
              "Name: num_med, dtype: int64"
            ]
          },
          "metadata": {},
          "execution_count": 49
        }
      ]
    },
    {
      "cell_type": "markdown",
      "source": [
        "Depois de criar essas duas colunas, podemos remover as colunas dos medicamentos."
      ],
      "metadata": {
        "id": "mKadQTuSZPGU"
      }
    },
    {
      "cell_type": "code",
      "source": [
        "# Remove as colunas de medicamentos\n",
        "dataset_copy = dataset_copy.drop(columns = medicamentos)"
      ],
      "metadata": {
        "id": "B1ospPruZLFj"
      },
      "execution_count": 50,
      "outputs": []
    },
    {
      "cell_type": "code",
      "source": [
        "# Shape\n",
        "dataset_copy.shape"
      ],
      "metadata": {
        "colab": {
          "base_uri": "https://localhost:8080/"
        },
        "id": "GJlXN1kfZTwa",
        "outputId": "43b834a1-f6a9-45ac-afc4-e1dd16cf3032"
      },
      "execution_count": 51,
      "outputs": [
        {
          "output_type": "execute_result",
          "data": {
            "text/plain": [
              "(98052, 26)"
            ]
          },
          "metadata": {},
          "execution_count": 51
        }
      ]
    },
    {
      "cell_type": "code",
      "source": [
        "dataset_copy.head()"
      ],
      "metadata": {
        "colab": {
          "base_uri": "https://localhost:8080/",
          "height": 357
        },
        "id": "bHhBi5YDZZpy",
        "outputId": "58bb5580-40c9-4481-a9f8-b0f3ba2961c6"
      },
      "execution_count": 52,
      "outputs": [
        {
          "output_type": "execute_result",
          "data": {
            "text/plain": [
              "   encounter_id  patient_nbr             race  gender      age  \\\n",
              "1        149190     55629189        Caucasian  Female   [0-50)   \n",
              "2         64410     86047875  AfricanAmerican  Female   [0-50)   \n",
              "3        500364     82442376        Caucasian    Male   [0-50)   \n",
              "4         16680     42519267        Caucasian    Male   [0-50)   \n",
              "5         35754     82637451        Caucasian    Male  [50-60)   \n",
              "\n",
              "  admission_type_id discharge_disposition_id admission_source_id  \\\n",
              "1        Emergencia                     Casa     Sala_Emergencia   \n",
              "2        Emergencia                     Casa     Sala_Emergencia   \n",
              "3        Emergencia                     Casa     Sala_Emergencia   \n",
              "4        Emergencia                     Casa     Sala_Emergencia   \n",
              "5             Outro                     Casa               Outro   \n",
              "\n",
              "   time_in_hospital  num_lab_procedures  num_procedures  num_medications  \\\n",
              "1                 3                  59               0               18   \n",
              "2                 2                  11               5               13   \n",
              "3                 2                  44               1               16   \n",
              "4                 1                  51               0                8   \n",
              "5                 3                  31               6               16   \n",
              "\n",
              "   number_outpatient  number_emergency  number_inpatient diag_1  diag_2  \\\n",
              "1                  0                 0                 0    276  250.01   \n",
              "2                  2                 0                 1    648     250   \n",
              "3                  0                 0                 0      8  250.43   \n",
              "4                  0                 0                 0    197     157   \n",
              "5                  0                 0                 0    414     411   \n",
              "\n",
              "  diag_3  number_diagnoses max_glu_serum A1Cresult change diabetesMed  \\\n",
              "1    255                 9          None      None     Ch         Yes   \n",
              "2    V27                 6          None      None     No         Yes   \n",
              "3    403                 7          None      None     Ch         Yes   \n",
              "4    250                 5          None      None     Ch         Yes   \n",
              "5    250                 9          None      None     No         Yes   \n",
              "\n",
              "   readmitted  num_alt_dosagem_med  num_med  \n",
              "1           1                    1        1  \n",
              "2           0                    0        1  \n",
              "3           0                    1        1  \n",
              "4           0                    0        2  \n",
              "5           1                    0        1  "
            ],
            "text/html": [
              "\n",
              "  <div id=\"df-df701005-de6a-44e9-920e-2783c0270382\">\n",
              "    <div class=\"colab-df-container\">\n",
              "      <div>\n",
              "<style scoped>\n",
              "    .dataframe tbody tr th:only-of-type {\n",
              "        vertical-align: middle;\n",
              "    }\n",
              "\n",
              "    .dataframe tbody tr th {\n",
              "        vertical-align: top;\n",
              "    }\n",
              "\n",
              "    .dataframe thead th {\n",
              "        text-align: right;\n",
              "    }\n",
              "</style>\n",
              "<table border=\"1\" class=\"dataframe\">\n",
              "  <thead>\n",
              "    <tr style=\"text-align: right;\">\n",
              "      <th></th>\n",
              "      <th>encounter_id</th>\n",
              "      <th>patient_nbr</th>\n",
              "      <th>race</th>\n",
              "      <th>gender</th>\n",
              "      <th>age</th>\n",
              "      <th>admission_type_id</th>\n",
              "      <th>discharge_disposition_id</th>\n",
              "      <th>admission_source_id</th>\n",
              "      <th>time_in_hospital</th>\n",
              "      <th>num_lab_procedures</th>\n",
              "      <th>num_procedures</th>\n",
              "      <th>num_medications</th>\n",
              "      <th>number_outpatient</th>\n",
              "      <th>number_emergency</th>\n",
              "      <th>number_inpatient</th>\n",
              "      <th>diag_1</th>\n",
              "      <th>diag_2</th>\n",
              "      <th>diag_3</th>\n",
              "      <th>number_diagnoses</th>\n",
              "      <th>max_glu_serum</th>\n",
              "      <th>A1Cresult</th>\n",
              "      <th>change</th>\n",
              "      <th>diabetesMed</th>\n",
              "      <th>readmitted</th>\n",
              "      <th>num_alt_dosagem_med</th>\n",
              "      <th>num_med</th>\n",
              "    </tr>\n",
              "  </thead>\n",
              "  <tbody>\n",
              "    <tr>\n",
              "      <th>1</th>\n",
              "      <td>149190</td>\n",
              "      <td>55629189</td>\n",
              "      <td>Caucasian</td>\n",
              "      <td>Female</td>\n",
              "      <td>[0-50)</td>\n",
              "      <td>Emergencia</td>\n",
              "      <td>Casa</td>\n",
              "      <td>Sala_Emergencia</td>\n",
              "      <td>3</td>\n",
              "      <td>59</td>\n",
              "      <td>0</td>\n",
              "      <td>18</td>\n",
              "      <td>0</td>\n",
              "      <td>0</td>\n",
              "      <td>0</td>\n",
              "      <td>276</td>\n",
              "      <td>250.01</td>\n",
              "      <td>255</td>\n",
              "      <td>9</td>\n",
              "      <td>None</td>\n",
              "      <td>None</td>\n",
              "      <td>Ch</td>\n",
              "      <td>Yes</td>\n",
              "      <td>1</td>\n",
              "      <td>1</td>\n",
              "      <td>1</td>\n",
              "    </tr>\n",
              "    <tr>\n",
              "      <th>2</th>\n",
              "      <td>64410</td>\n",
              "      <td>86047875</td>\n",
              "      <td>AfricanAmerican</td>\n",
              "      <td>Female</td>\n",
              "      <td>[0-50)</td>\n",
              "      <td>Emergencia</td>\n",
              "      <td>Casa</td>\n",
              "      <td>Sala_Emergencia</td>\n",
              "      <td>2</td>\n",
              "      <td>11</td>\n",
              "      <td>5</td>\n",
              "      <td>13</td>\n",
              "      <td>2</td>\n",
              "      <td>0</td>\n",
              "      <td>1</td>\n",
              "      <td>648</td>\n",
              "      <td>250</td>\n",
              "      <td>V27</td>\n",
              "      <td>6</td>\n",
              "      <td>None</td>\n",
              "      <td>None</td>\n",
              "      <td>No</td>\n",
              "      <td>Yes</td>\n",
              "      <td>0</td>\n",
              "      <td>0</td>\n",
              "      <td>1</td>\n",
              "    </tr>\n",
              "    <tr>\n",
              "      <th>3</th>\n",
              "      <td>500364</td>\n",
              "      <td>82442376</td>\n",
              "      <td>Caucasian</td>\n",
              "      <td>Male</td>\n",
              "      <td>[0-50)</td>\n",
              "      <td>Emergencia</td>\n",
              "      <td>Casa</td>\n",
              "      <td>Sala_Emergencia</td>\n",
              "      <td>2</td>\n",
              "      <td>44</td>\n",
              "      <td>1</td>\n",
              "      <td>16</td>\n",
              "      <td>0</td>\n",
              "      <td>0</td>\n",
              "      <td>0</td>\n",
              "      <td>8</td>\n",
              "      <td>250.43</td>\n",
              "      <td>403</td>\n",
              "      <td>7</td>\n",
              "      <td>None</td>\n",
              "      <td>None</td>\n",
              "      <td>Ch</td>\n",
              "      <td>Yes</td>\n",
              "      <td>0</td>\n",
              "      <td>1</td>\n",
              "      <td>1</td>\n",
              "    </tr>\n",
              "    <tr>\n",
              "      <th>4</th>\n",
              "      <td>16680</td>\n",
              "      <td>42519267</td>\n",
              "      <td>Caucasian</td>\n",
              "      <td>Male</td>\n",
              "      <td>[0-50)</td>\n",
              "      <td>Emergencia</td>\n",
              "      <td>Casa</td>\n",
              "      <td>Sala_Emergencia</td>\n",
              "      <td>1</td>\n",
              "      <td>51</td>\n",
              "      <td>0</td>\n",
              "      <td>8</td>\n",
              "      <td>0</td>\n",
              "      <td>0</td>\n",
              "      <td>0</td>\n",
              "      <td>197</td>\n",
              "      <td>157</td>\n",
              "      <td>250</td>\n",
              "      <td>5</td>\n",
              "      <td>None</td>\n",
              "      <td>None</td>\n",
              "      <td>Ch</td>\n",
              "      <td>Yes</td>\n",
              "      <td>0</td>\n",
              "      <td>0</td>\n",
              "      <td>2</td>\n",
              "    </tr>\n",
              "    <tr>\n",
              "      <th>5</th>\n",
              "      <td>35754</td>\n",
              "      <td>82637451</td>\n",
              "      <td>Caucasian</td>\n",
              "      <td>Male</td>\n",
              "      <td>[50-60)</td>\n",
              "      <td>Outro</td>\n",
              "      <td>Casa</td>\n",
              "      <td>Outro</td>\n",
              "      <td>3</td>\n",
              "      <td>31</td>\n",
              "      <td>6</td>\n",
              "      <td>16</td>\n",
              "      <td>0</td>\n",
              "      <td>0</td>\n",
              "      <td>0</td>\n",
              "      <td>414</td>\n",
              "      <td>411</td>\n",
              "      <td>250</td>\n",
              "      <td>9</td>\n",
              "      <td>None</td>\n",
              "      <td>None</td>\n",
              "      <td>No</td>\n",
              "      <td>Yes</td>\n",
              "      <td>1</td>\n",
              "      <td>0</td>\n",
              "      <td>1</td>\n",
              "    </tr>\n",
              "  </tbody>\n",
              "</table>\n",
              "</div>\n",
              "      <button class=\"colab-df-convert\" onclick=\"convertToInteractive('df-df701005-de6a-44e9-920e-2783c0270382')\"\n",
              "              title=\"Convert this dataframe to an interactive table.\"\n",
              "              style=\"display:none;\">\n",
              "        \n",
              "  <svg xmlns=\"http://www.w3.org/2000/svg\" height=\"24px\"viewBox=\"0 0 24 24\"\n",
              "       width=\"24px\">\n",
              "    <path d=\"M0 0h24v24H0V0z\" fill=\"none\"/>\n",
              "    <path d=\"M18.56 5.44l.94 2.06.94-2.06 2.06-.94-2.06-.94-.94-2.06-.94 2.06-2.06.94zm-11 1L8.5 8.5l.94-2.06 2.06-.94-2.06-.94L8.5 2.5l-.94 2.06-2.06.94zm10 10l.94 2.06.94-2.06 2.06-.94-2.06-.94-.94-2.06-.94 2.06-2.06.94z\"/><path d=\"M17.41 7.96l-1.37-1.37c-.4-.4-.92-.59-1.43-.59-.52 0-1.04.2-1.43.59L10.3 9.45l-7.72 7.72c-.78.78-.78 2.05 0 2.83L4 21.41c.39.39.9.59 1.41.59.51 0 1.02-.2 1.41-.59l7.78-7.78 2.81-2.81c.8-.78.8-2.07 0-2.86zM5.41 20L4 18.59l7.72-7.72 1.47 1.35L5.41 20z\"/>\n",
              "  </svg>\n",
              "      </button>\n",
              "      \n",
              "  <style>\n",
              "    .colab-df-container {\n",
              "      display:flex;\n",
              "      flex-wrap:wrap;\n",
              "      gap: 12px;\n",
              "    }\n",
              "\n",
              "    .colab-df-convert {\n",
              "      background-color: #E8F0FE;\n",
              "      border: none;\n",
              "      border-radius: 50%;\n",
              "      cursor: pointer;\n",
              "      display: none;\n",
              "      fill: #1967D2;\n",
              "      height: 32px;\n",
              "      padding: 0 0 0 0;\n",
              "      width: 32px;\n",
              "    }\n",
              "\n",
              "    .colab-df-convert:hover {\n",
              "      background-color: #E2EBFA;\n",
              "      box-shadow: 0px 1px 2px rgba(60, 64, 67, 0.3), 0px 1px 3px 1px rgba(60, 64, 67, 0.15);\n",
              "      fill: #174EA6;\n",
              "    }\n",
              "\n",
              "    [theme=dark] .colab-df-convert {\n",
              "      background-color: #3B4455;\n",
              "      fill: #D2E3FC;\n",
              "    }\n",
              "\n",
              "    [theme=dark] .colab-df-convert:hover {\n",
              "      background-color: #434B5C;\n",
              "      box-shadow: 0px 1px 3px 1px rgba(0, 0, 0, 0.15);\n",
              "      filter: drop-shadow(0px 1px 2px rgba(0, 0, 0, 0.3));\n",
              "      fill: #FFFFFF;\n",
              "    }\n",
              "  </style>\n",
              "\n",
              "      <script>\n",
              "        const buttonEl =\n",
              "          document.querySelector('#df-df701005-de6a-44e9-920e-2783c0270382 button.colab-df-convert');\n",
              "        buttonEl.style.display =\n",
              "          google.colab.kernel.accessAllowed ? 'block' : 'none';\n",
              "\n",
              "        async function convertToInteractive(key) {\n",
              "          const element = document.querySelector('#df-df701005-de6a-44e9-920e-2783c0270382');\n",
              "          const dataTable =\n",
              "            await google.colab.kernel.invokeFunction('convertToInteractive',\n",
              "                                                     [key], {});\n",
              "          if (!dataTable) return;\n",
              "\n",
              "          const docLinkHtml = 'Like what you see? Visit the ' +\n",
              "            '<a target=\"_blank\" href=https://colab.research.google.com/notebooks/data_table.ipynb>data table notebook</a>'\n",
              "            + ' to learn more about interactive tables.';\n",
              "          element.innerHTML = '';\n",
              "          dataTable['output_type'] = 'display_data';\n",
              "          await google.colab.output.renderOutput(dataTable, element);\n",
              "          const docLink = document.createElement('div');\n",
              "          docLink.innerHTML = docLinkHtml;\n",
              "          element.appendChild(docLink);\n",
              "        }\n",
              "      </script>\n",
              "    </div>\n",
              "  </div>\n",
              "  "
            ]
          },
          "metadata": {},
          "execution_count": 52
        }
      ]
    },
    {
      "cell_type": "code",
      "source": [
        "# Variáveis\n",
        "dataset_copy.dtypes"
      ],
      "metadata": {
        "colab": {
          "base_uri": "https://localhost:8080/"
        },
        "id": "jnWfszR3Za6L",
        "outputId": "028c1c59-8b00-4bf7-bf00-1950fe19b404"
      },
      "execution_count": 53,
      "outputs": [
        {
          "output_type": "execute_result",
          "data": {
            "text/plain": [
              "encounter_id                 int64\n",
              "patient_nbr                  int64\n",
              "race                        object\n",
              "gender                      object\n",
              "age                         object\n",
              "admission_type_id           object\n",
              "discharge_disposition_id    object\n",
              "admission_source_id         object\n",
              "time_in_hospital             int64\n",
              "num_lab_procedures           int64\n",
              "num_procedures               int64\n",
              "num_medications              int64\n",
              "number_outpatient            int64\n",
              "number_emergency             int64\n",
              "number_inpatient             int64\n",
              "diag_1                      object\n",
              "diag_2                      object\n",
              "diag_3                      object\n",
              "number_diagnoses             int64\n",
              "max_glu_serum               object\n",
              "A1Cresult                   object\n",
              "change                      object\n",
              "diabetesMed                 object\n",
              "readmitted                   int64\n",
              "num_alt_dosagem_med          int64\n",
              "num_med                      int64\n",
              "dtype: object"
            ]
          },
          "metadata": {},
          "execution_count": 53
        }
      ]
    },
    {
      "cell_type": "code",
      "source": [
        "dataset_copy.shape"
      ],
      "metadata": {
        "colab": {
          "base_uri": "https://localhost:8080/"
        },
        "id": "4SKjIgi9p6lW",
        "outputId": "41d8c437-6185-4202-dae3-fac816828206"
      },
      "execution_count": 54,
      "outputs": [
        {
          "output_type": "execute_result",
          "data": {
            "text/plain": [
              "(98052, 26)"
            ]
          },
          "metadata": {},
          "execution_count": 54
        }
      ]
    },
    {
      "cell_type": "code",
      "source": [
        "dataset_copy.max_glu_serum.unique() #Fazer a binarizacao nessa variavel"
      ],
      "metadata": {
        "colab": {
          "base_uri": "https://localhost:8080/"
        },
        "id": "8vdGS6JIrdAQ",
        "outputId": "f8f3e763-66b6-4922-a774-dca2a3797f1e"
      },
      "execution_count": 55,
      "outputs": [
        {
          "output_type": "execute_result",
          "data": {
            "text/plain": [
              "array(['None', '>300', 'Norm', '>200'], dtype=object)"
            ]
          },
          "metadata": {},
          "execution_count": 55
        }
      ]
    },
    {
      "cell_type": "code",
      "source": [
        "# Fazendo o dê-para\n",
        "dataset_copy['max_glu_serum'] = dataset_copy['max_glu_serum'].replace('None',-99)\n",
        "dataset_copy['max_glu_serum'] = dataset_copy['max_glu_serum'].replace('>300',0)\n",
        "dataset_copy['max_glu_serum'] = dataset_copy['max_glu_serum'].replace('>200',0)\n",
        "dataset_copy['max_glu_serum'] = dataset_copy['max_glu_serum'].replace('Norm',1)"
      ],
      "metadata": {
        "id": "RTue2zngzmTU"
      },
      "execution_count": 56,
      "outputs": []
    },
    {
      "cell_type": "code",
      "source": [
        "# Verificando os valores que aparecem na  varável 'max_glu_serum' após a trnasformação\n",
        "dataset_copy.value_counts(['max_glu_serum'])#A Variavel será dropada pois há muitos valores ausentes"
      ],
      "metadata": {
        "colab": {
          "base_uri": "https://localhost:8080/"
        },
        "id": "tlTjoWGv0Oai",
        "outputId": "b1953431-3754-444c-d8e3-d291d8c6fec1"
      },
      "execution_count": 57,
      "outputs": [
        {
          "output_type": "execute_result",
          "data": {
            "text/plain": [
              "max_glu_serum\n",
              "-99              92844\n",
              " 0                2676\n",
              " 1                2532\n",
              "dtype: int64"
            ]
          },
          "metadata": {},
          "execution_count": 57
        }
      ]
    },
    {
      "cell_type": "code",
      "source": [
        "dataset_copy.A1Cresult.unique() #Fazer a binarizacao nessa variavel"
      ],
      "metadata": {
        "colab": {
          "base_uri": "https://localhost:8080/"
        },
        "id": "ujvnx0kbr4m_",
        "outputId": "1c09d56f-67a8-4d53-dfbc-fcb599509d5f"
      },
      "execution_count": 58,
      "outputs": [
        {
          "output_type": "execute_result",
          "data": {
            "text/plain": [
              "array(['None', '>7', '>8', 'Norm'], dtype=object)"
            ]
          },
          "metadata": {},
          "execution_count": 58
        }
      ]
    },
    {
      "cell_type": "code",
      "source": [
        "# Fazendo o dê-para\n",
        "dataset_copy['A1Cresult'] = dataset_copy['A1Cresult'].replace('None',-99)\n",
        "dataset_copy['A1Cresult'] = dataset_copy['A1Cresult'].replace('>7',0)\n",
        "dataset_copy['A1Cresult'] = dataset_copy['A1Cresult'].replace('>8',0)\n",
        "dataset_copy['A1Cresult'] = dataset_copy['A1Cresult'].replace('Norm',1)"
      ],
      "metadata": {
        "id": "gCALUqT100X5"
      },
      "execution_count": 59,
      "outputs": []
    },
    {
      "cell_type": "code",
      "source": [
        "# Verificando os valores que aparecem na  varável 'max_glu_serum' após a trnasformação\n",
        "dataset_copy.value_counts(['A1Cresult']) #A Variavel será dropada pois há muitos valores ausentes"
      ],
      "metadata": {
        "colab": {
          "base_uri": "https://localhost:8080/"
        },
        "id": "16jHbXd91NMw",
        "outputId": "7670640f-f4bf-4931-d742-23e9caea95d3"
      },
      "execution_count": 60,
      "outputs": [
        {
          "output_type": "execute_result",
          "data": {
            "text/plain": [
              "A1Cresult\n",
              "-99          81859\n",
              " 0           11339\n",
              " 1            4854\n",
              "dtype: int64"
            ]
          },
          "metadata": {},
          "execution_count": 60
        }
      ]
    },
    {
      "cell_type": "code",
      "source": [
        "dataset_copy.change.unique() #Fazer a binarizacao nessa variavel"
      ],
      "metadata": {
        "colab": {
          "base_uri": "https://localhost:8080/"
        },
        "id": "aIuDNBg-tPMm",
        "outputId": "f77cdfb1-1356-4c83-86b4-40b14d94bf74"
      },
      "execution_count": 61,
      "outputs": [
        {
          "output_type": "execute_result",
          "data": {
            "text/plain": [
              "array(['Ch', 'No'], dtype=object)"
            ]
          },
          "metadata": {},
          "execution_count": 61
        }
      ]
    },
    {
      "cell_type": "code",
      "source": [
        "# Fazendo o dê-para\n",
        "dataset_copy['change'] = dataset_copy['change'].replace('No',0)\n",
        "dataset_copy['change'] = dataset_copy['change'].replace('Ch',1)"
      ],
      "metadata": {
        "id": "Fv9E2Aj31kUq"
      },
      "execution_count": 62,
      "outputs": []
    },
    {
      "cell_type": "code",
      "source": [
        "dataset_copy.value_counts(['change'])"
      ],
      "metadata": {
        "colab": {
          "base_uri": "https://localhost:8080/"
        },
        "id": "dEROWO1x1r2y",
        "outputId": "596e1cde-06a5-43d7-ccd6-315a18b8dce4"
      },
      "execution_count": 63,
      "outputs": [
        {
          "output_type": "execute_result",
          "data": {
            "text/plain": [
              "change\n",
              "0         52774\n",
              "1         45278\n",
              "dtype: int64"
            ]
          },
          "metadata": {},
          "execution_count": 63
        }
      ]
    },
    {
      "cell_type": "code",
      "source": [
        "dataset_copy.diabetesMed.unique() #Fazer a binarizacao nessa variavel"
      ],
      "metadata": {
        "colab": {
          "base_uri": "https://localhost:8080/"
        },
        "id": "AB9YkhYutc74",
        "outputId": "90fc757a-91a9-4bf0-e924-a8733501cffa"
      },
      "execution_count": 64,
      "outputs": [
        {
          "output_type": "execute_result",
          "data": {
            "text/plain": [
              "array(['Yes', 'No'], dtype=object)"
            ]
          },
          "metadata": {},
          "execution_count": 64
        }
      ]
    },
    {
      "cell_type": "code",
      "source": [
        "# Fazendo o dê-para\n",
        "dataset_copy['diabetesMed'] = dataset_copy['diabetesMed'].replace('No',0)\n",
        "dataset_copy['diabetesMed'] = dataset_copy['diabetesMed'].replace('Yes',1)"
      ],
      "metadata": {
        "id": "wUmMJErf1zBY"
      },
      "execution_count": 65,
      "outputs": []
    },
    {
      "cell_type": "code",
      "source": [
        "dataset_copy.value_counts(['diabetesMed'])"
      ],
      "metadata": {
        "colab": {
          "base_uri": "https://localhost:8080/"
        },
        "id": "2dYazL1r17_q",
        "outputId": "7e54f356-64b0-4a74-915c-c1178f5e0126"
      },
      "execution_count": 66,
      "outputs": [
        {
          "output_type": "execute_result",
          "data": {
            "text/plain": [
              "diabetesMed\n",
              "1              75350\n",
              "0              22702\n",
              "dtype: int64"
            ]
          },
          "metadata": {},
          "execution_count": 66
        }
      ]
    },
    {
      "cell_type": "code",
      "source": [
        "# Dropar diag_1,2,3\n",
        "# Dropar max_glu_serum\n",
        "# Dropar A1Cresult\n",
        "colunas_drop = ['diag_1','diag_2','diag_3','max_glu_serum','A1Cresult']\n",
        "# Remove as colunas \n",
        "dataset_copy = dataset_copy.drop(columns = colunas_drop)"
      ],
      "metadata": {
        "id": "AU50O03Et9I4"
      },
      "execution_count": 67,
      "outputs": []
    },
    {
      "cell_type": "code",
      "source": [
        "# Variáveis\n",
        "dataset_copy.dtypes"
      ],
      "metadata": {
        "colab": {
          "base_uri": "https://localhost:8080/"
        },
        "id": "Jl50gh9R63Et",
        "outputId": "ae9b7c45-7ee6-4fdf-bc16-dd8612c9b940"
      },
      "execution_count": 68,
      "outputs": [
        {
          "output_type": "execute_result",
          "data": {
            "text/plain": [
              "encounter_id                 int64\n",
              "patient_nbr                  int64\n",
              "race                        object\n",
              "gender                      object\n",
              "age                         object\n",
              "admission_type_id           object\n",
              "discharge_disposition_id    object\n",
              "admission_source_id         object\n",
              "time_in_hospital             int64\n",
              "num_lab_procedures           int64\n",
              "num_procedures               int64\n",
              "num_medications              int64\n",
              "number_outpatient            int64\n",
              "number_emergency             int64\n",
              "number_inpatient             int64\n",
              "number_diagnoses             int64\n",
              "change                       int64\n",
              "diabetesMed                  int64\n",
              "readmitted                   int64\n",
              "num_alt_dosagem_med          int64\n",
              "num_med                      int64\n",
              "dtype: object"
            ]
          },
          "metadata": {},
          "execution_count": 68
        }
      ]
    },
    {
      "cell_type": "code",
      "source": [
        "dataset_copy.shape"
      ],
      "metadata": {
        "colab": {
          "base_uri": "https://localhost:8080/"
        },
        "id": "KLL_Sh4r66o6",
        "outputId": "86711ef4-f002-4b89-8086-81eb4b62c99b"
      },
      "execution_count": 69,
      "outputs": [
        {
          "output_type": "execute_result",
          "data": {
            "text/plain": [
              "(98052, 21)"
            ]
          },
          "metadata": {},
          "execution_count": 69
        }
      ]
    },
    {
      "cell_type": "code",
      "source": [
        "dataset_copy.head()"
      ],
      "metadata": {
        "colab": {
          "base_uri": "https://localhost:8080/",
          "height": 357
        },
        "id": "3_TIi8nc6-vK",
        "outputId": "657954de-e1c5-4096-9397-4d5abf6cb6e9"
      },
      "execution_count": 70,
      "outputs": [
        {
          "output_type": "execute_result",
          "data": {
            "text/plain": [
              "   encounter_id  patient_nbr             race  gender      age  \\\n",
              "1        149190     55629189        Caucasian  Female   [0-50)   \n",
              "2         64410     86047875  AfricanAmerican  Female   [0-50)   \n",
              "3        500364     82442376        Caucasian    Male   [0-50)   \n",
              "4         16680     42519267        Caucasian    Male   [0-50)   \n",
              "5         35754     82637451        Caucasian    Male  [50-60)   \n",
              "\n",
              "  admission_type_id discharge_disposition_id admission_source_id  \\\n",
              "1        Emergencia                     Casa     Sala_Emergencia   \n",
              "2        Emergencia                     Casa     Sala_Emergencia   \n",
              "3        Emergencia                     Casa     Sala_Emergencia   \n",
              "4        Emergencia                     Casa     Sala_Emergencia   \n",
              "5             Outro                     Casa               Outro   \n",
              "\n",
              "   time_in_hospital  num_lab_procedures  num_procedures  num_medications  \\\n",
              "1                 3                  59               0               18   \n",
              "2                 2                  11               5               13   \n",
              "3                 2                  44               1               16   \n",
              "4                 1                  51               0                8   \n",
              "5                 3                  31               6               16   \n",
              "\n",
              "   number_outpatient  number_emergency  number_inpatient  number_diagnoses  \\\n",
              "1                  0                 0                 0                 9   \n",
              "2                  2                 0                 1                 6   \n",
              "3                  0                 0                 0                 7   \n",
              "4                  0                 0                 0                 5   \n",
              "5                  0                 0                 0                 9   \n",
              "\n",
              "   change  diabetesMed  readmitted  num_alt_dosagem_med  num_med  \n",
              "1       1            1           1                    1        1  \n",
              "2       0            1           0                    0        1  \n",
              "3       1            1           0                    1        1  \n",
              "4       1            1           0                    0        2  \n",
              "5       0            1           1                    0        1  "
            ],
            "text/html": [
              "\n",
              "  <div id=\"df-f67b6c99-fffe-489f-b517-a79f7a8f191c\">\n",
              "    <div class=\"colab-df-container\">\n",
              "      <div>\n",
              "<style scoped>\n",
              "    .dataframe tbody tr th:only-of-type {\n",
              "        vertical-align: middle;\n",
              "    }\n",
              "\n",
              "    .dataframe tbody tr th {\n",
              "        vertical-align: top;\n",
              "    }\n",
              "\n",
              "    .dataframe thead th {\n",
              "        text-align: right;\n",
              "    }\n",
              "</style>\n",
              "<table border=\"1\" class=\"dataframe\">\n",
              "  <thead>\n",
              "    <tr style=\"text-align: right;\">\n",
              "      <th></th>\n",
              "      <th>encounter_id</th>\n",
              "      <th>patient_nbr</th>\n",
              "      <th>race</th>\n",
              "      <th>gender</th>\n",
              "      <th>age</th>\n",
              "      <th>admission_type_id</th>\n",
              "      <th>discharge_disposition_id</th>\n",
              "      <th>admission_source_id</th>\n",
              "      <th>time_in_hospital</th>\n",
              "      <th>num_lab_procedures</th>\n",
              "      <th>num_procedures</th>\n",
              "      <th>num_medications</th>\n",
              "      <th>number_outpatient</th>\n",
              "      <th>number_emergency</th>\n",
              "      <th>number_inpatient</th>\n",
              "      <th>number_diagnoses</th>\n",
              "      <th>change</th>\n",
              "      <th>diabetesMed</th>\n",
              "      <th>readmitted</th>\n",
              "      <th>num_alt_dosagem_med</th>\n",
              "      <th>num_med</th>\n",
              "    </tr>\n",
              "  </thead>\n",
              "  <tbody>\n",
              "    <tr>\n",
              "      <th>1</th>\n",
              "      <td>149190</td>\n",
              "      <td>55629189</td>\n",
              "      <td>Caucasian</td>\n",
              "      <td>Female</td>\n",
              "      <td>[0-50)</td>\n",
              "      <td>Emergencia</td>\n",
              "      <td>Casa</td>\n",
              "      <td>Sala_Emergencia</td>\n",
              "      <td>3</td>\n",
              "      <td>59</td>\n",
              "      <td>0</td>\n",
              "      <td>18</td>\n",
              "      <td>0</td>\n",
              "      <td>0</td>\n",
              "      <td>0</td>\n",
              "      <td>9</td>\n",
              "      <td>1</td>\n",
              "      <td>1</td>\n",
              "      <td>1</td>\n",
              "      <td>1</td>\n",
              "      <td>1</td>\n",
              "    </tr>\n",
              "    <tr>\n",
              "      <th>2</th>\n",
              "      <td>64410</td>\n",
              "      <td>86047875</td>\n",
              "      <td>AfricanAmerican</td>\n",
              "      <td>Female</td>\n",
              "      <td>[0-50)</td>\n",
              "      <td>Emergencia</td>\n",
              "      <td>Casa</td>\n",
              "      <td>Sala_Emergencia</td>\n",
              "      <td>2</td>\n",
              "      <td>11</td>\n",
              "      <td>5</td>\n",
              "      <td>13</td>\n",
              "      <td>2</td>\n",
              "      <td>0</td>\n",
              "      <td>1</td>\n",
              "      <td>6</td>\n",
              "      <td>0</td>\n",
              "      <td>1</td>\n",
              "      <td>0</td>\n",
              "      <td>0</td>\n",
              "      <td>1</td>\n",
              "    </tr>\n",
              "    <tr>\n",
              "      <th>3</th>\n",
              "      <td>500364</td>\n",
              "      <td>82442376</td>\n",
              "      <td>Caucasian</td>\n",
              "      <td>Male</td>\n",
              "      <td>[0-50)</td>\n",
              "      <td>Emergencia</td>\n",
              "      <td>Casa</td>\n",
              "      <td>Sala_Emergencia</td>\n",
              "      <td>2</td>\n",
              "      <td>44</td>\n",
              "      <td>1</td>\n",
              "      <td>16</td>\n",
              "      <td>0</td>\n",
              "      <td>0</td>\n",
              "      <td>0</td>\n",
              "      <td>7</td>\n",
              "      <td>1</td>\n",
              "      <td>1</td>\n",
              "      <td>0</td>\n",
              "      <td>1</td>\n",
              "      <td>1</td>\n",
              "    </tr>\n",
              "    <tr>\n",
              "      <th>4</th>\n",
              "      <td>16680</td>\n",
              "      <td>42519267</td>\n",
              "      <td>Caucasian</td>\n",
              "      <td>Male</td>\n",
              "      <td>[0-50)</td>\n",
              "      <td>Emergencia</td>\n",
              "      <td>Casa</td>\n",
              "      <td>Sala_Emergencia</td>\n",
              "      <td>1</td>\n",
              "      <td>51</td>\n",
              "      <td>0</td>\n",
              "      <td>8</td>\n",
              "      <td>0</td>\n",
              "      <td>0</td>\n",
              "      <td>0</td>\n",
              "      <td>5</td>\n",
              "      <td>1</td>\n",
              "      <td>1</td>\n",
              "      <td>0</td>\n",
              "      <td>0</td>\n",
              "      <td>2</td>\n",
              "    </tr>\n",
              "    <tr>\n",
              "      <th>5</th>\n",
              "      <td>35754</td>\n",
              "      <td>82637451</td>\n",
              "      <td>Caucasian</td>\n",
              "      <td>Male</td>\n",
              "      <td>[50-60)</td>\n",
              "      <td>Outro</td>\n",
              "      <td>Casa</td>\n",
              "      <td>Outro</td>\n",
              "      <td>3</td>\n",
              "      <td>31</td>\n",
              "      <td>6</td>\n",
              "      <td>16</td>\n",
              "      <td>0</td>\n",
              "      <td>0</td>\n",
              "      <td>0</td>\n",
              "      <td>9</td>\n",
              "      <td>0</td>\n",
              "      <td>1</td>\n",
              "      <td>1</td>\n",
              "      <td>0</td>\n",
              "      <td>1</td>\n",
              "    </tr>\n",
              "  </tbody>\n",
              "</table>\n",
              "</div>\n",
              "      <button class=\"colab-df-convert\" onclick=\"convertToInteractive('df-f67b6c99-fffe-489f-b517-a79f7a8f191c')\"\n",
              "              title=\"Convert this dataframe to an interactive table.\"\n",
              "              style=\"display:none;\">\n",
              "        \n",
              "  <svg xmlns=\"http://www.w3.org/2000/svg\" height=\"24px\"viewBox=\"0 0 24 24\"\n",
              "       width=\"24px\">\n",
              "    <path d=\"M0 0h24v24H0V0z\" fill=\"none\"/>\n",
              "    <path d=\"M18.56 5.44l.94 2.06.94-2.06 2.06-.94-2.06-.94-.94-2.06-.94 2.06-2.06.94zm-11 1L8.5 8.5l.94-2.06 2.06-.94-2.06-.94L8.5 2.5l-.94 2.06-2.06.94zm10 10l.94 2.06.94-2.06 2.06-.94-2.06-.94-.94-2.06-.94 2.06-2.06.94z\"/><path d=\"M17.41 7.96l-1.37-1.37c-.4-.4-.92-.59-1.43-.59-.52 0-1.04.2-1.43.59L10.3 9.45l-7.72 7.72c-.78.78-.78 2.05 0 2.83L4 21.41c.39.39.9.59 1.41.59.51 0 1.02-.2 1.41-.59l7.78-7.78 2.81-2.81c.8-.78.8-2.07 0-2.86zM5.41 20L4 18.59l7.72-7.72 1.47 1.35L5.41 20z\"/>\n",
              "  </svg>\n",
              "      </button>\n",
              "      \n",
              "  <style>\n",
              "    .colab-df-container {\n",
              "      display:flex;\n",
              "      flex-wrap:wrap;\n",
              "      gap: 12px;\n",
              "    }\n",
              "\n",
              "    .colab-df-convert {\n",
              "      background-color: #E8F0FE;\n",
              "      border: none;\n",
              "      border-radius: 50%;\n",
              "      cursor: pointer;\n",
              "      display: none;\n",
              "      fill: #1967D2;\n",
              "      height: 32px;\n",
              "      padding: 0 0 0 0;\n",
              "      width: 32px;\n",
              "    }\n",
              "\n",
              "    .colab-df-convert:hover {\n",
              "      background-color: #E2EBFA;\n",
              "      box-shadow: 0px 1px 2px rgba(60, 64, 67, 0.3), 0px 1px 3px 1px rgba(60, 64, 67, 0.15);\n",
              "      fill: #174EA6;\n",
              "    }\n",
              "\n",
              "    [theme=dark] .colab-df-convert {\n",
              "      background-color: #3B4455;\n",
              "      fill: #D2E3FC;\n",
              "    }\n",
              "\n",
              "    [theme=dark] .colab-df-convert:hover {\n",
              "      background-color: #434B5C;\n",
              "      box-shadow: 0px 1px 3px 1px rgba(0, 0, 0, 0.15);\n",
              "      filter: drop-shadow(0px 1px 2px rgba(0, 0, 0, 0.3));\n",
              "      fill: #FFFFFF;\n",
              "    }\n",
              "  </style>\n",
              "\n",
              "      <script>\n",
              "        const buttonEl =\n",
              "          document.querySelector('#df-f67b6c99-fffe-489f-b517-a79f7a8f191c button.colab-df-convert');\n",
              "        buttonEl.style.display =\n",
              "          google.colab.kernel.accessAllowed ? 'block' : 'none';\n",
              "\n",
              "        async function convertToInteractive(key) {\n",
              "          const element = document.querySelector('#df-f67b6c99-fffe-489f-b517-a79f7a8f191c');\n",
              "          const dataTable =\n",
              "            await google.colab.kernel.invokeFunction('convertToInteractive',\n",
              "                                                     [key], {});\n",
              "          if (!dataTable) return;\n",
              "\n",
              "          const docLinkHtml = 'Like what you see? Visit the ' +\n",
              "            '<a target=\"_blank\" href=https://colab.research.google.com/notebooks/data_table.ipynb>data table notebook</a>'\n",
              "            + ' to learn more about interactive tables.';\n",
              "          element.innerHTML = '';\n",
              "          dataTable['output_type'] = 'display_data';\n",
              "          await google.colab.output.renderOutput(dataTable, element);\n",
              "          const docLink = document.createElement('div');\n",
              "          docLink.innerHTML = docLinkHtml;\n",
              "          element.appendChild(docLink);\n",
              "        }\n",
              "      </script>\n",
              "    </div>\n",
              "  </div>\n",
              "  "
            ]
          },
          "metadata": {},
          "execution_count": 70
        }
      ]
    },
    {
      "cell_type": "markdown",
      "source": [
        "###Convertendo os tipos de dados das variáveis"
      ],
      "metadata": {
        "id": "P23zNDeZnltL"
      }
    },
    {
      "cell_type": "code",
      "source": [
        "# Variáveis\n",
        "dataset_copy.dtypes"
      ],
      "metadata": {
        "colab": {
          "base_uri": "https://localhost:8080/"
        },
        "id": "t1BfCxLNoKEV",
        "outputId": "a3eab940-d2f8-4aec-aacd-0aad0922f357"
      },
      "execution_count": 71,
      "outputs": [
        {
          "output_type": "execute_result",
          "data": {
            "text/plain": [
              "encounter_id                 int64\n",
              "patient_nbr                  int64\n",
              "race                        object\n",
              "gender                      object\n",
              "age                         object\n",
              "admission_type_id           object\n",
              "discharge_disposition_id    object\n",
              "admission_source_id         object\n",
              "time_in_hospital             int64\n",
              "num_lab_procedures           int64\n",
              "num_procedures               int64\n",
              "num_medications              int64\n",
              "number_outpatient            int64\n",
              "number_emergency             int64\n",
              "number_inpatient             int64\n",
              "number_diagnoses             int64\n",
              "change                       int64\n",
              "diabetesMed                  int64\n",
              "readmitted                   int64\n",
              "num_alt_dosagem_med          int64\n",
              "num_med                      int64\n",
              "dtype: object"
            ]
          },
          "metadata": {},
          "execution_count": 71
        }
      ]
    },
    {
      "cell_type": "code",
      "source": [
        "# Convertendo para String\n",
        "\n",
        "convert_to_string(dataset_copy, ['patient_nbr','encounter_id','race', 'gender','age','admission_type_id','discharge_disposition_id','admission_source_id','change','diabetesMed','readmitted'])"
      ],
      "metadata": {
        "id": "CxE6-K4Znqor"
      },
      "execution_count": 72,
      "outputs": []
    },
    {
      "cell_type": "code",
      "source": [
        "# Retornando o dataset_copy para dataset\n",
        "dataset = dataset_copy"
      ],
      "metadata": {
        "id": "ll1TkkzsfqGM"
      },
      "execution_count": 73,
      "outputs": []
    },
    {
      "cell_type": "markdown",
      "source": [
        "###Usando o PowerBI para visualização dos dados"
      ],
      "metadata": {
        "id": "vrfYNu7Cd4xT"
      }
    },
    {
      "cell_type": "code",
      "source": [
        "#Logando na conta\n",
        "\n",
        "device_auth = DeviceCodeLoginAuthentication()"
      ],
      "metadata": {
        "colab": {
          "base_uri": "https://localhost:8080/"
        },
        "id": "WVppsFp1d8x6",
        "outputId": "3f532a0a-9c0e-4e87-a23e-fb13469fddea"
      },
      "execution_count": null,
      "outputs": [
        {
          "output_type": "stream",
          "name": "stdout",
          "text": [
            "Performing device flow authentication. Please follow the instructions below.\n",
            "To sign in, use a web browser to open the page https://microsoft.com/devicelogin and enter the code RVEEEXP9E to authenticate.\n"
          ]
        }
      ]
    },
    {
      "cell_type": "code",
      "source": [
        "# Criando um Dashboard com o dataset\n",
        "PBI_visualize = QuickVisualize(get_dataset_config(dataset), auth=device_auth)"
      ],
      "metadata": {
        "id": "NLMQyQr0e7C6"
      },
      "execution_count": null,
      "outputs": []
    },
    {
      "cell_type": "code",
      "source": [
        "# Configurando o tamanho do Dashboard\n",
        "PBI_visualize.set_size(700, 1850)\n",
        "          \n",
        "                    "
      ],
      "metadata": {
        "id": "Sjy1Gm0Zh1Wb"
      },
      "execution_count": null,
      "outputs": []
    },
    {
      "cell_type": "code",
      "source": [
        "# Visualizando o Dashboard\n",
        "PBI_visualize"
      ],
      "metadata": {
        "id": "i1PqNUhNgHj8"
      },
      "execution_count": null,
      "outputs": []
    },
    {
      "cell_type": "markdown",
      "source": [
        "###***Análise Descritiva dos Dados***"
      ],
      "metadata": {
        "id": "LuD5xO3EfH0m"
      }
    },
    {
      "cell_type": "code",
      "source": [
        "# Head\n",
        "\n",
        "dataset.head()"
      ],
      "metadata": {
        "id": "gkDFh-LjhVS2"
      },
      "execution_count": null,
      "outputs": []
    },
    {
      "cell_type": "markdown",
      "source": [
        "## Total de Medicamentos Consumidos por Faixa Etária"
      ],
      "metadata": {
        "id": "ArxNO7FNgnH_"
      }
    },
    {
      "cell_type": "markdown",
      "source": [
        "![01.jpg](data:image/jpeg;base64,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)"
      ],
      "metadata": {
        "id": "6fyM17WPp7mf"
      }
    },
    {
      "cell_type": "markdown",
      "source": [
        "Chegamos a conclusão que a faixa que mais consumiu médicamentos com aproximadamente (30.000 unidades) foi a de 70 - 80 Anos."
      ],
      "metadata": {
        "id": "KkxC3Q9SiFrW"
      }
    },
    {
      "cell_type": "markdown",
      "source": [
        "*texto em itálico*#Total de Readmições por Gênero"
      ],
      "metadata": {
        "id": "5z-oZVXSjOmG"
      }
    },
    {
      "cell_type": "markdown",
      "source": [
        "![02.jpg](data:image/jpeg;base64,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)"
      ],
      "metadata": {
        "id": "0ImdB8GbrqOn"
      }
    },
    {
      "cell_type": "markdown",
      "source": [
        "Podemos ver que o gênero feminino foi o que houve mais readmissões, cerca de 5% a mais que o masculino"
      ],
      "metadata": {
        "id": "KylxG4_lrsRP"
      }
    },
    {
      "cell_type": "markdown",
      "source": [
        "#Total de Readmissões de Pacientes Por Faixa Etária"
      ],
      "metadata": {
        "id": "UsFYU9Acr316"
      }
    },
    {
      "cell_type": "markdown",
      "source": [
        "![03.jpg](data:image/jpeg;base64,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)"
      ],
      "metadata": {
        "id": "k2z5fUTbr95g"
      }
    },
    {
      "cell_type": "markdown",
      "source": [
        "#Percentual de Readmissões/Não Readmissões de Pacientes Por Faixa Etária"
      ],
      "metadata": {
        "id": "w9R7rRZDswtP"
      }
    },
    {
      "cell_type": "markdown",
      "source": [
        "![04.jpg](data:image/jpeg;base64,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)"
      ],
      "metadata": {
        "id": "x2K--MBwuhro"
      }
    },
    {
      "cell_type": "markdown",
      "source": [
        "Onde '0' significa não readmitido e o '1' readmitido"
      ],
      "metadata": {
        "id": "PdHYZYVNuj5A"
      }
    },
    {
      "cell_type": "markdown",
      "source": [
        "#Total de Readmissões de Pacientes Por Gênero, Por Idade e Por Tipo de Admissão"
      ],
      "metadata": {
        "id": "RJkCuKrgur_J"
      }
    },
    {
      "cell_type": "markdown",
      "source": [
        "Emergência"
      ],
      "metadata": {
        "id": "YBFycuar3QL6"
      }
    },
    {
      "cell_type": "markdown",
      "source": [
        "![05emergencia.jpg](data:image/jpeg;base64,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)"
      ],
      "metadata": {
        "id": "6CLVjly75cwy"
      }
    },
    {
      "cell_type": "markdown",
      "source": [
        "Outro"
      ],
      "metadata": {
        "id": "WAg7lBWX5fDc"
      }
    },
    {
      "cell_type": "markdown",
      "source": [
        "![05outro.jpg](data:image/jpeg;base64,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)"
      ],
      "metadata": {
        "id": "zKwEeLvb5g8j"
      }
    },
    {
      "cell_type": "markdown",
      "source": [],
      "metadata": {
        "id": "O-Iok6Co5jKr"
      }
    },
    {
      "cell_type": "markdown",
      "source": [
        "###Fim"
      ],
      "metadata": {
        "id": "bJ9oBFJh64XS"
      }
    }
  ]
}