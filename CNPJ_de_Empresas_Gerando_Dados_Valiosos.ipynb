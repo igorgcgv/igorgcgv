{
  "nbformat": 4,
  "nbformat_minor": 0,
  "metadata": {
    "colab": {
      "provenance": [],
      "authorship_tag": "ABX9TyO8xLCLiMAIVtkNKDSOOxJR",
      "include_colab_link": true
    },
    "kernelspec": {
      "name": "python3",
      "display_name": "Python 3"
    },
    "language_info": {
      "name": "python"
    }
  },
  "cells": [
    {
      "cell_type": "markdown",
      "metadata": {
        "id": "view-in-github",
        "colab_type": "text"
      },
      "source": [
        "<a href=\"https://colab.research.google.com/github/igorgcgv/igorgcgv/blob/main/CNPJ_de_Empresas_Gerando_Dados_Valiosos.ipynb\" target=\"_parent\"><img src=\"https://colab.research.google.com/assets/colab-badge.svg\" alt=\"Open In Colab\"/></a>"
      ]
    },
    {
      "cell_type": "code",
      "source": [
        "#Importando as Libs\n",
        "\n",
        "\n",
        "import pandas as pd\n",
        "import time\n",
        "import json"
      ],
      "metadata": {
        "id": "obiXJ2CAqpPp"
      },
      "execution_count": 1,
      "outputs": []
    },
    {
      "cell_type": "code",
      "source": [
        "data = \"/content/CE_Bebedouro_Armarios_RFB.xlsx\""
      ],
      "metadata": {
        "id": "dVUnSl7TrnJw"
      },
      "execution_count": 2,
      "outputs": []
    },
    {
      "cell_type": "code",
      "source": [
        "dataset = pd.read_excel (data)"
      ],
      "metadata": {
        "id": "1AjnU14-r8PI"
      },
      "execution_count": 3,
      "outputs": []
    },
    {
      "cell_type": "code",
      "source": [
        "dataset.tail()"
      ],
      "metadata": {
        "id": "kOQtQOdYsEGw"
      },
      "execution_count": null,
      "outputs": []
    },
    {
      "cell_type": "code",
      "source": [
        "dataset.columns"
      ],
      "metadata": {
        "id": "eF2Nf-zcsH_5"
      },
      "execution_count": null,
      "outputs": []
    },
    {
      "cell_type": "code",
      "source": [
        "lista_drop_colunas = ['NOME CONTATO', 'NOME OPORTUNIDADE', 'NOME EMPRESA',\n",
        "       'END-CIDADE', 'END-ESTADO', 'EMAIL', 'CONTATO', 'FONTE']"
      ],
      "metadata": {
        "id": "Z1TqKSMNsNXH"
      },
      "execution_count": 6,
      "outputs": []
    },
    {
      "cell_type": "code",
      "source": [
        "dataset = dataset.drop(lista_drop_colunas, axis= 1)"
      ],
      "metadata": {
        "id": "Fi1aJbn1sTz4"
      },
      "execution_count": 7,
      "outputs": []
    },
    {
      "cell_type": "code",
      "source": [
        "dataset.head()"
      ],
      "metadata": {
        "id": "4x-AUbULsk3A"
      },
      "execution_count": null,
      "outputs": []
    },
    {
      "cell_type": "code",
      "source": [
        "#Funcao converter STR\n",
        "def convert_to_string(df, columns):\n",
        "    for col in columns:\n",
        "        df[col] = df[col].astype(\"string\")"
      ],
      "metadata": {
        "id": "R2-BnoAAzIYi"
      },
      "execution_count": 9,
      "outputs": []
    },
    {
      "cell_type": "code",
      "source": [
        "convert_to_string(dataset,['CNPJ'])"
      ],
      "metadata": {
        "id": "lupqTXK7zNVD"
      },
      "execution_count": 10,
      "outputs": []
    },
    {
      "cell_type": "code",
      "source": [
        "#Funcao para tratar CNPJ que começam com Zero\n",
        "def colocar_zero (cnpj):\n",
        "    if len(cnpj) == 13:\n",
        "      return \"0\"+cnpj\n",
        "    else:\n",
        "      return cnpj"
      ],
      "metadata": {
        "id": "_ul_aIbNxKaM"
      },
      "execution_count": 11,
      "outputs": []
    },
    {
      "cell_type": "code",
      "source": [
        "#Aplicando a funcao colocar_zero na coluna CNPJ\n",
        "\n",
        "dataset['CNPJ_'] = dataset['CNPJ'].apply(lambda x: colocar_zero(x))"
      ],
      "metadata": {
        "id": "FOtsMyO_wceb"
      },
      "execution_count": 12,
      "outputs": []
    },
    {
      "cell_type": "code",
      "source": [
        "dataset.head()"
      ],
      "metadata": {
        "id": "a7SdtrO-zwcT"
      },
      "execution_count": null,
      "outputs": []
    },
    {
      "cell_type": "code",
      "source": [
        "dataset = dataset.drop(['CNPJ'], axis = 1)"
      ],
      "metadata": {
        "id": "Bx1gT5Knz5qz"
      },
      "execution_count": 14,
      "outputs": []
    },
    {
      "cell_type": "code",
      "source": [
        "dataset = dataset.rename(columns={'CNPJ_':'CNPJ'})"
      ],
      "metadata": {
        "id": "K--6Kj83z9Kq"
      },
      "execution_count": 15,
      "outputs": []
    },
    {
      "cell_type": "code",
      "source": [
        "dataset.head()"
      ],
      "metadata": {
        "id": "qlqg8kik0UZT"
      },
      "execution_count": null,
      "outputs": []
    },
    {
      "cell_type": "code",
      "source": [
        "from pandas.io.json import json_normalize\n",
        "#########################\n",
        "#Consumindo a API\n",
        "\n",
        "import http.client\n",
        "import requests\n",
        "\n",
        "def consulta(cnpj):\n",
        "\n",
        "  conn = http.client.HTTPSConnection(\"receitaws.com.br\")\n",
        "\n",
        "  headers = { 'Accept': \"application/json\" }\n",
        "\n",
        "  conn.request(\"GET\", f\"/v1/cnpj/{cnpj}\", headers=headers)\n",
        "\n",
        "  res = conn.getresponse()\n",
        "  data = json.loads(res.read())\n",
        "  #df = json_normalize(data['nome'])\n",
        "\n",
        "  #print(df)\n",
        "\n",
        "  return data['nome'],data['logradouro'],data['numero'],data['cnpj'],data['bairro'],data['municipio'],data['uf'],data['cep'],data['telefone'],data['email'],data['atividade_principal']"
      ],
      "metadata": {
        "id": "MnD99Ls1ZSEq"
      },
      "execution_count": 25,
      "outputs": []
    },
    {
      "cell_type": "code",
      "source": [
        "resultados = []\n",
        "\n",
        "for i, row in dataset.head(2).iterrows():#o head é pra definir a quantidades de linhas que vc deseja interar (Deve ser excluido para poder interar em todas as linhas da coluna CNPJ)\n",
        "    cnpj = row['CNPJ']\n",
        "    resultado = consulta(cnpj)\n",
        "    resultados.append(list(resultado))\n",
        "    time.sleep(20)\n",
        "\n",
        "df = pd.DataFrame(resultados, columns=['nome', 'logradouro', 'numero', 'cnpj', 'bairro', 'municipio', 'uf', 'cep', 'telefone', 'email','atividade_principal'])\n",
        "print(df)"
      ],
      "metadata": {
        "id": "M6-YXORZjdtr"
      },
      "execution_count": null,
      "outputs": []
    },
    {
      "cell_type": "code",
      "source": [
        "#Verificando o DF\n",
        "df"
      ],
      "metadata": {
        "id": "kFxumTpbl64V"
      },
      "execution_count": null,
      "outputs": []
    },
    {
      "cell_type": "code",
      "source": [
        "type(df)"
      ],
      "metadata": {
        "id": "1J6J-MO_k0cc"
      },
      "execution_count": null,
      "outputs": []
    },
    {
      "cell_type": "code",
      "source": [
        "df.to_csv('empresas.csv', index=False)"
      ],
      "metadata": {
        "id": "XswIi6nTUpU2"
      },
      "execution_count": 29,
      "outputs": []
    },
    {
      "cell_type": "code",
      "source": [
        "###FIM####"
      ],
      "metadata": {
        "id": "7JvrPn6zo9gd"
      },
      "execution_count": 30,
      "outputs": []
    }
  ]
}